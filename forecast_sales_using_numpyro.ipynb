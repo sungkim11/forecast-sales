{
  "nbformat": 4,
  "nbformat_minor": 0,
  "metadata": {
    "colab": {
      "name": "forecast_sales_using_numpyro.ipynb",
      "provenance": [],
      "collapsed_sections": [],
      "authorship_tag": "ABX9TyO/cSZuKDI0WBWjf70YMSqJ",
      "include_colab_link": true
    },
    "kernelspec": {
      "name": "python3",
      "display_name": "Python 3"
    },
    "language_info": {
      "name": "python"
    },
    "accelerator": "TPU",
    "widgets": {
      "application/vnd.jupyter.widget-state+json": {
        "54b5270ba97949909286c1e7118197de": {
          "model_module": "@jupyter-widgets/controls",
          "model_name": "HBoxModel",
          "model_module_version": "1.5.0",
          "state": {
            "_dom_classes": [],
            "_model_module": "@jupyter-widgets/controls",
            "_model_module_version": "1.5.0",
            "_model_name": "HBoxModel",
            "_view_count": null,
            "_view_module": "@jupyter-widgets/controls",
            "_view_module_version": "1.5.0",
            "_view_name": "HBoxView",
            "box_style": "",
            "children": [
              "IPY_MODEL_dbf83f7f09554c38a595f5ffe6627f6d",
              "IPY_MODEL_18c97e74b4454ebf9a43d25577b2fc68",
              "IPY_MODEL_996b197a5e824b6eb61101ba4e5a99f3"
            ],
            "layout": "IPY_MODEL_b9c255c0f9c34291822f010a24ade4b9"
          }
        },
        "dbf83f7f09554c38a595f5ffe6627f6d": {
          "model_module": "@jupyter-widgets/controls",
          "model_name": "HTMLModel",
          "model_module_version": "1.5.0",
          "state": {
            "_dom_classes": [],
            "_model_module": "@jupyter-widgets/controls",
            "_model_module_version": "1.5.0",
            "_model_name": "HTMLModel",
            "_view_count": null,
            "_view_module": "@jupyter-widgets/controls",
            "_view_module_version": "1.5.0",
            "_view_name": "HTMLView",
            "description": "",
            "description_tooltip": null,
            "layout": "IPY_MODEL_e3f98ce8d2f6450c86754e55e4f20ab7",
            "placeholder": "​",
            "style": "IPY_MODEL_211e968d40fa4dfa8ec31f1fb6a23cf1",
            "value": "Running chain 0: 100%"
          }
        },
        "18c97e74b4454ebf9a43d25577b2fc68": {
          "model_module": "@jupyter-widgets/controls",
          "model_name": "FloatProgressModel",
          "model_module_version": "1.5.0",
          "state": {
            "_dom_classes": [],
            "_model_module": "@jupyter-widgets/controls",
            "_model_module_version": "1.5.0",
            "_model_name": "FloatProgressModel",
            "_view_count": null,
            "_view_module": "@jupyter-widgets/controls",
            "_view_module_version": "1.5.0",
            "_view_name": "ProgressView",
            "bar_style": "success",
            "description": "",
            "description_tooltip": null,
            "layout": "IPY_MODEL_e618ba9ec7664833996b9dffb4f33844",
            "max": 10000,
            "min": 0,
            "orientation": "horizontal",
            "style": "IPY_MODEL_a4deae55bace47c9a2c0f8b81684cb4f",
            "value": 10000
          }
        },
        "996b197a5e824b6eb61101ba4e5a99f3": {
          "model_module": "@jupyter-widgets/controls",
          "model_name": "HTMLModel",
          "model_module_version": "1.5.0",
          "state": {
            "_dom_classes": [],
            "_model_module": "@jupyter-widgets/controls",
            "_model_module_version": "1.5.0",
            "_model_name": "HTMLModel",
            "_view_count": null,
            "_view_module": "@jupyter-widgets/controls",
            "_view_module_version": "1.5.0",
            "_view_name": "HTMLView",
            "description": "",
            "description_tooltip": null,
            "layout": "IPY_MODEL_170a287b4935472f9a8fe24e2066a117",
            "placeholder": "​",
            "style": "IPY_MODEL_3254756f729f49ebb88d14e2440cc2fc",
            "value": " 10000/10000 [12:18&lt;00:00, 14.59it/s]"
          }
        },
        "b9c255c0f9c34291822f010a24ade4b9": {
          "model_module": "@jupyter-widgets/base",
          "model_name": "LayoutModel",
          "model_module_version": "1.2.0",
          "state": {
            "_model_module": "@jupyter-widgets/base",
            "_model_module_version": "1.2.0",
            "_model_name": "LayoutModel",
            "_view_count": null,
            "_view_module": "@jupyter-widgets/base",
            "_view_module_version": "1.2.0",
            "_view_name": "LayoutView",
            "align_content": null,
            "align_items": null,
            "align_self": null,
            "border": null,
            "bottom": null,
            "display": null,
            "flex": null,
            "flex_flow": null,
            "grid_area": null,
            "grid_auto_columns": null,
            "grid_auto_flow": null,
            "grid_auto_rows": null,
            "grid_column": null,
            "grid_gap": null,
            "grid_row": null,
            "grid_template_areas": null,
            "grid_template_columns": null,
            "grid_template_rows": null,
            "height": null,
            "justify_content": null,
            "justify_items": null,
            "left": null,
            "margin": null,
            "max_height": null,
            "max_width": null,
            "min_height": null,
            "min_width": null,
            "object_fit": null,
            "object_position": null,
            "order": null,
            "overflow": null,
            "overflow_x": null,
            "overflow_y": null,
            "padding": null,
            "right": null,
            "top": null,
            "visibility": null,
            "width": null
          }
        },
        "e3f98ce8d2f6450c86754e55e4f20ab7": {
          "model_module": "@jupyter-widgets/base",
          "model_name": "LayoutModel",
          "model_module_version": "1.2.0",
          "state": {
            "_model_module": "@jupyter-widgets/base",
            "_model_module_version": "1.2.0",
            "_model_name": "LayoutModel",
            "_view_count": null,
            "_view_module": "@jupyter-widgets/base",
            "_view_module_version": "1.2.0",
            "_view_name": "LayoutView",
            "align_content": null,
            "align_items": null,
            "align_self": null,
            "border": null,
            "bottom": null,
            "display": null,
            "flex": null,
            "flex_flow": null,
            "grid_area": null,
            "grid_auto_columns": null,
            "grid_auto_flow": null,
            "grid_auto_rows": null,
            "grid_column": null,
            "grid_gap": null,
            "grid_row": null,
            "grid_template_areas": null,
            "grid_template_columns": null,
            "grid_template_rows": null,
            "height": null,
            "justify_content": null,
            "justify_items": null,
            "left": null,
            "margin": null,
            "max_height": null,
            "max_width": null,
            "min_height": null,
            "min_width": null,
            "object_fit": null,
            "object_position": null,
            "order": null,
            "overflow": null,
            "overflow_x": null,
            "overflow_y": null,
            "padding": null,
            "right": null,
            "top": null,
            "visibility": null,
            "width": null
          }
        },
        "211e968d40fa4dfa8ec31f1fb6a23cf1": {
          "model_module": "@jupyter-widgets/controls",
          "model_name": "DescriptionStyleModel",
          "model_module_version": "1.5.0",
          "state": {
            "_model_module": "@jupyter-widgets/controls",
            "_model_module_version": "1.5.0",
            "_model_name": "DescriptionStyleModel",
            "_view_count": null,
            "_view_module": "@jupyter-widgets/base",
            "_view_module_version": "1.2.0",
            "_view_name": "StyleView",
            "description_width": ""
          }
        },
        "e618ba9ec7664833996b9dffb4f33844": {
          "model_module": "@jupyter-widgets/base",
          "model_name": "LayoutModel",
          "model_module_version": "1.2.0",
          "state": {
            "_model_module": "@jupyter-widgets/base",
            "_model_module_version": "1.2.0",
            "_model_name": "LayoutModel",
            "_view_count": null,
            "_view_module": "@jupyter-widgets/base",
            "_view_module_version": "1.2.0",
            "_view_name": "LayoutView",
            "align_content": null,
            "align_items": null,
            "align_self": null,
            "border": null,
            "bottom": null,
            "display": null,
            "flex": null,
            "flex_flow": null,
            "grid_area": null,
            "grid_auto_columns": null,
            "grid_auto_flow": null,
            "grid_auto_rows": null,
            "grid_column": null,
            "grid_gap": null,
            "grid_row": null,
            "grid_template_areas": null,
            "grid_template_columns": null,
            "grid_template_rows": null,
            "height": null,
            "justify_content": null,
            "justify_items": null,
            "left": null,
            "margin": null,
            "max_height": null,
            "max_width": null,
            "min_height": null,
            "min_width": null,
            "object_fit": null,
            "object_position": null,
            "order": null,
            "overflow": null,
            "overflow_x": null,
            "overflow_y": null,
            "padding": null,
            "right": null,
            "top": null,
            "visibility": null,
            "width": null
          }
        },
        "a4deae55bace47c9a2c0f8b81684cb4f": {
          "model_module": "@jupyter-widgets/controls",
          "model_name": "ProgressStyleModel",
          "model_module_version": "1.5.0",
          "state": {
            "_model_module": "@jupyter-widgets/controls",
            "_model_module_version": "1.5.0",
            "_model_name": "ProgressStyleModel",
            "_view_count": null,
            "_view_module": "@jupyter-widgets/base",
            "_view_module_version": "1.2.0",
            "_view_name": "StyleView",
            "bar_color": null,
            "description_width": ""
          }
        },
        "170a287b4935472f9a8fe24e2066a117": {
          "model_module": "@jupyter-widgets/base",
          "model_name": "LayoutModel",
          "model_module_version": "1.2.0",
          "state": {
            "_model_module": "@jupyter-widgets/base",
            "_model_module_version": "1.2.0",
            "_model_name": "LayoutModel",
            "_view_count": null,
            "_view_module": "@jupyter-widgets/base",
            "_view_module_version": "1.2.0",
            "_view_name": "LayoutView",
            "align_content": null,
            "align_items": null,
            "align_self": null,
            "border": null,
            "bottom": null,
            "display": null,
            "flex": null,
            "flex_flow": null,
            "grid_area": null,
            "grid_auto_columns": null,
            "grid_auto_flow": null,
            "grid_auto_rows": null,
            "grid_column": null,
            "grid_gap": null,
            "grid_row": null,
            "grid_template_areas": null,
            "grid_template_columns": null,
            "grid_template_rows": null,
            "height": null,
            "justify_content": null,
            "justify_items": null,
            "left": null,
            "margin": null,
            "max_height": null,
            "max_width": null,
            "min_height": null,
            "min_width": null,
            "object_fit": null,
            "object_position": null,
            "order": null,
            "overflow": null,
            "overflow_x": null,
            "overflow_y": null,
            "padding": null,
            "right": null,
            "top": null,
            "visibility": null,
            "width": null
          }
        },
        "3254756f729f49ebb88d14e2440cc2fc": {
          "model_module": "@jupyter-widgets/controls",
          "model_name": "DescriptionStyleModel",
          "model_module_version": "1.5.0",
          "state": {
            "_model_module": "@jupyter-widgets/controls",
            "_model_module_version": "1.5.0",
            "_model_name": "DescriptionStyleModel",
            "_view_count": null,
            "_view_module": "@jupyter-widgets/base",
            "_view_module_version": "1.2.0",
            "_view_name": "StyleView",
            "description_width": ""
          }
        },
        "4e9e8a08adb64291b35ded56050ccfa8": {
          "model_module": "@jupyter-widgets/controls",
          "model_name": "HBoxModel",
          "model_module_version": "1.5.0",
          "state": {
            "_dom_classes": [],
            "_model_module": "@jupyter-widgets/controls",
            "_model_module_version": "1.5.0",
            "_model_name": "HBoxModel",
            "_view_count": null,
            "_view_module": "@jupyter-widgets/controls",
            "_view_module_version": "1.5.0",
            "_view_name": "HBoxView",
            "box_style": "",
            "children": [
              "IPY_MODEL_d3655fb762424d478fd8885c67b13226",
              "IPY_MODEL_ae79d71f33b943a5aed1e50838186f5d",
              "IPY_MODEL_4339d31333944ff3836912502d9dfdbd"
            ],
            "layout": "IPY_MODEL_44382acacf9440518f430a713463593d"
          }
        },
        "d3655fb762424d478fd8885c67b13226": {
          "model_module": "@jupyter-widgets/controls",
          "model_name": "HTMLModel",
          "model_module_version": "1.5.0",
          "state": {
            "_dom_classes": [],
            "_model_module": "@jupyter-widgets/controls",
            "_model_module_version": "1.5.0",
            "_model_name": "HTMLModel",
            "_view_count": null,
            "_view_module": "@jupyter-widgets/controls",
            "_view_module_version": "1.5.0",
            "_view_name": "HTMLView",
            "description": "",
            "description_tooltip": null,
            "layout": "IPY_MODEL_fd0e451e53df403e8c4094ff9eadbcb3",
            "placeholder": "​",
            "style": "IPY_MODEL_d30c387da3bc4268b0acada1c778997d",
            "value": "Running chain 1: 100%"
          }
        },
        "ae79d71f33b943a5aed1e50838186f5d": {
          "model_module": "@jupyter-widgets/controls",
          "model_name": "FloatProgressModel",
          "model_module_version": "1.5.0",
          "state": {
            "_dom_classes": [],
            "_model_module": "@jupyter-widgets/controls",
            "_model_module_version": "1.5.0",
            "_model_name": "FloatProgressModel",
            "_view_count": null,
            "_view_module": "@jupyter-widgets/controls",
            "_view_module_version": "1.5.0",
            "_view_name": "ProgressView",
            "bar_style": "success",
            "description": "",
            "description_tooltip": null,
            "layout": "IPY_MODEL_287b2b2cb8e94abb94701db80bb7017a",
            "max": 10000,
            "min": 0,
            "orientation": "horizontal",
            "style": "IPY_MODEL_8fbad82f5d0d4b209903269c692ee12a",
            "value": 10000
          }
        },
        "4339d31333944ff3836912502d9dfdbd": {
          "model_module": "@jupyter-widgets/controls",
          "model_name": "HTMLModel",
          "model_module_version": "1.5.0",
          "state": {
            "_dom_classes": [],
            "_model_module": "@jupyter-widgets/controls",
            "_model_module_version": "1.5.0",
            "_model_name": "HTMLModel",
            "_view_count": null,
            "_view_module": "@jupyter-widgets/controls",
            "_view_module_version": "1.5.0",
            "_view_name": "HTMLView",
            "description": "",
            "description_tooltip": null,
            "layout": "IPY_MODEL_9ff7d4d1b224452cba00a33db8b644e2",
            "placeholder": "​",
            "style": "IPY_MODEL_36e1d0180a2b49f89546e72491973704",
            "value": " 10000/10000 [12:18&lt;00:00, 15.24it/s]"
          }
        },
        "44382acacf9440518f430a713463593d": {
          "model_module": "@jupyter-widgets/base",
          "model_name": "LayoutModel",
          "model_module_version": "1.2.0",
          "state": {
            "_model_module": "@jupyter-widgets/base",
            "_model_module_version": "1.2.0",
            "_model_name": "LayoutModel",
            "_view_count": null,
            "_view_module": "@jupyter-widgets/base",
            "_view_module_version": "1.2.0",
            "_view_name": "LayoutView",
            "align_content": null,
            "align_items": null,
            "align_self": null,
            "border": null,
            "bottom": null,
            "display": null,
            "flex": null,
            "flex_flow": null,
            "grid_area": null,
            "grid_auto_columns": null,
            "grid_auto_flow": null,
            "grid_auto_rows": null,
            "grid_column": null,
            "grid_gap": null,
            "grid_row": null,
            "grid_template_areas": null,
            "grid_template_columns": null,
            "grid_template_rows": null,
            "height": null,
            "justify_content": null,
            "justify_items": null,
            "left": null,
            "margin": null,
            "max_height": null,
            "max_width": null,
            "min_height": null,
            "min_width": null,
            "object_fit": null,
            "object_position": null,
            "order": null,
            "overflow": null,
            "overflow_x": null,
            "overflow_y": null,
            "padding": null,
            "right": null,
            "top": null,
            "visibility": null,
            "width": null
          }
        },
        "fd0e451e53df403e8c4094ff9eadbcb3": {
          "model_module": "@jupyter-widgets/base",
          "model_name": "LayoutModel",
          "model_module_version": "1.2.0",
          "state": {
            "_model_module": "@jupyter-widgets/base",
            "_model_module_version": "1.2.0",
            "_model_name": "LayoutModel",
            "_view_count": null,
            "_view_module": "@jupyter-widgets/base",
            "_view_module_version": "1.2.0",
            "_view_name": "LayoutView",
            "align_content": null,
            "align_items": null,
            "align_self": null,
            "border": null,
            "bottom": null,
            "display": null,
            "flex": null,
            "flex_flow": null,
            "grid_area": null,
            "grid_auto_columns": null,
            "grid_auto_flow": null,
            "grid_auto_rows": null,
            "grid_column": null,
            "grid_gap": null,
            "grid_row": null,
            "grid_template_areas": null,
            "grid_template_columns": null,
            "grid_template_rows": null,
            "height": null,
            "justify_content": null,
            "justify_items": null,
            "left": null,
            "margin": null,
            "max_height": null,
            "max_width": null,
            "min_height": null,
            "min_width": null,
            "object_fit": null,
            "object_position": null,
            "order": null,
            "overflow": null,
            "overflow_x": null,
            "overflow_y": null,
            "padding": null,
            "right": null,
            "top": null,
            "visibility": null,
            "width": null
          }
        },
        "d30c387da3bc4268b0acada1c778997d": {
          "model_module": "@jupyter-widgets/controls",
          "model_name": "DescriptionStyleModel",
          "model_module_version": "1.5.0",
          "state": {
            "_model_module": "@jupyter-widgets/controls",
            "_model_module_version": "1.5.0",
            "_model_name": "DescriptionStyleModel",
            "_view_count": null,
            "_view_module": "@jupyter-widgets/base",
            "_view_module_version": "1.2.0",
            "_view_name": "StyleView",
            "description_width": ""
          }
        },
        "287b2b2cb8e94abb94701db80bb7017a": {
          "model_module": "@jupyter-widgets/base",
          "model_name": "LayoutModel",
          "model_module_version": "1.2.0",
          "state": {
            "_model_module": "@jupyter-widgets/base",
            "_model_module_version": "1.2.0",
            "_model_name": "LayoutModel",
            "_view_count": null,
            "_view_module": "@jupyter-widgets/base",
            "_view_module_version": "1.2.0",
            "_view_name": "LayoutView",
            "align_content": null,
            "align_items": null,
            "align_self": null,
            "border": null,
            "bottom": null,
            "display": null,
            "flex": null,
            "flex_flow": null,
            "grid_area": null,
            "grid_auto_columns": null,
            "grid_auto_flow": null,
            "grid_auto_rows": null,
            "grid_column": null,
            "grid_gap": null,
            "grid_row": null,
            "grid_template_areas": null,
            "grid_template_columns": null,
            "grid_template_rows": null,
            "height": null,
            "justify_content": null,
            "justify_items": null,
            "left": null,
            "margin": null,
            "max_height": null,
            "max_width": null,
            "min_height": null,
            "min_width": null,
            "object_fit": null,
            "object_position": null,
            "order": null,
            "overflow": null,
            "overflow_x": null,
            "overflow_y": null,
            "padding": null,
            "right": null,
            "top": null,
            "visibility": null,
            "width": null
          }
        },
        "8fbad82f5d0d4b209903269c692ee12a": {
          "model_module": "@jupyter-widgets/controls",
          "model_name": "ProgressStyleModel",
          "model_module_version": "1.5.0",
          "state": {
            "_model_module": "@jupyter-widgets/controls",
            "_model_module_version": "1.5.0",
            "_model_name": "ProgressStyleModel",
            "_view_count": null,
            "_view_module": "@jupyter-widgets/base",
            "_view_module_version": "1.2.0",
            "_view_name": "StyleView",
            "bar_color": null,
            "description_width": ""
          }
        },
        "9ff7d4d1b224452cba00a33db8b644e2": {
          "model_module": "@jupyter-widgets/base",
          "model_name": "LayoutModel",
          "model_module_version": "1.2.0",
          "state": {
            "_model_module": "@jupyter-widgets/base",
            "_model_module_version": "1.2.0",
            "_model_name": "LayoutModel",
            "_view_count": null,
            "_view_module": "@jupyter-widgets/base",
            "_view_module_version": "1.2.0",
            "_view_name": "LayoutView",
            "align_content": null,
            "align_items": null,
            "align_self": null,
            "border": null,
            "bottom": null,
            "display": null,
            "flex": null,
            "flex_flow": null,
            "grid_area": null,
            "grid_auto_columns": null,
            "grid_auto_flow": null,
            "grid_auto_rows": null,
            "grid_column": null,
            "grid_gap": null,
            "grid_row": null,
            "grid_template_areas": null,
            "grid_template_columns": null,
            "grid_template_rows": null,
            "height": null,
            "justify_content": null,
            "justify_items": null,
            "left": null,
            "margin": null,
            "max_height": null,
            "max_width": null,
            "min_height": null,
            "min_width": null,
            "object_fit": null,
            "object_position": null,
            "order": null,
            "overflow": null,
            "overflow_x": null,
            "overflow_y": null,
            "padding": null,
            "right": null,
            "top": null,
            "visibility": null,
            "width": null
          }
        },
        "36e1d0180a2b49f89546e72491973704": {
          "model_module": "@jupyter-widgets/controls",
          "model_name": "DescriptionStyleModel",
          "model_module_version": "1.5.0",
          "state": {
            "_model_module": "@jupyter-widgets/controls",
            "_model_module_version": "1.5.0",
            "_model_name": "DescriptionStyleModel",
            "_view_count": null,
            "_view_module": "@jupyter-widgets/base",
            "_view_module_version": "1.2.0",
            "_view_name": "StyleView",
            "description_width": ""
          }
        }
      }
    }
  },
  "cells": [
    {
      "cell_type": "markdown",
      "metadata": {
        "id": "view-in-github",
        "colab_type": "text"
      },
      "source": [
        "<a href=\"https://colab.research.google.com/github/sungkim11/forecast-sales/blob/main/forecast_sales_using_numpyro.ipynb\" target=\"_parent\"><img src=\"https://colab.research.google.com/assets/colab-badge.svg\" alt=\"Open In Colab\"/></a>"
      ]
    },
    {
      "cell_type": "markdown",
      "source": [
        "# Forecast Sales with NumPyro"
      ],
      "metadata": {
        "id": "RqWvOREF5Lbf"
      }
    },
    {
      "cell_type": "markdown",
      "source": [
        "NumPyro is probabilistic programming with NumPy powered by JAX for autograd and JIT compilation to GPU/TPU/CPU."
      ],
      "metadata": {
        "id": "188oZ-Lg5Tg3"
      }
    },
    {
      "cell_type": "markdown",
      "source": [
        "## 1. Prequisites"
      ],
      "metadata": {
        "id": "t5mhxZKL5nEa"
      }
    },
    {
      "cell_type": "markdown",
      "source": [
        "Following are prerequisite for this tutorial:\n",
        "\n",
        "- Data\n",
        "- Python Package: NumPyro\n",
        "- Python Package: Jax\n",
        "- Python Package: Statsmodels"
      ],
      "metadata": {
        "id": "KWJWGZ0K5vbp"
      }
    },
    {
      "cell_type": "markdown",
      "source": [
        "### 1.1. Data"
      ],
      "metadata": {
        "id": "mfdzR3yw56v4"
      }
    },
    {
      "cell_type": "markdown",
      "source": [
        "Three data sources were used for this tutorial where United Stated Census Bureau Monthly Retail Sales is used to forecast future sales and both FRED Data and OECD Data were used as Regressors data."
      ],
      "metadata": {
        "id": "S5PG6l9f6AXa"
      }
    },
    {
      "cell_type": "markdown",
      "source": [
        "**United Stated Census Bureau Monthly Retail Sales**\n",
        "United Stated Census Bureau maintains Monthly Retail Trade Report, from January 1992 to Present. This data was picked to illustrate forecasting because it has extensive historical data with same monthly frequency. Data is available as Excel spreadsheet format at https://www.census.gov/retail/mrts/www/mrtssales92-present.xls"
      ],
      "metadata": {
        "id": "JHPHhRr76Cot"
      }
    },
    {
      "cell_type": "markdown",
      "source": [
        "**FRED Data: https://fred.stlouisfed.org/**\n",
        "\n",
        "- Inflation\n",
        "- CPI\n",
        "- M1\n",
        "- M2\n",
        "- Interest Rate"
      ],
      "metadata": {
        "id": "3VbAVbXl6FuQ"
      }
    },
    {
      "cell_type": "markdown",
      "source": [
        "**OECD Data: https://data.oecd.org/leadind/composite-leading-indicator-cli.htm#indicator-chart**\n",
        "\n",
        "- Composite leading indicator (CLI)\n",
        "- Business confidence index (BCI)\n",
        "- Consumer confidence index (CCI)"
      ],
      "metadata": {
        "id": "2eu-DoRo6Kmx"
      }
    },
    {
      "cell_type": "markdown",
      "source": [
        "## 1.2. Python Packages"
      ],
      "metadata": {
        "id": "N7y_R84B6Iy5"
      }
    },
    {
      "cell_type": "markdown",
      "source": [
        "#### 1.2.1. Install Python Packages"
      ],
      "metadata": {
        "id": "o0qdiHYi6Xh4"
      }
    },
    {
      "cell_type": "code",
      "source": [
        "%%writefile requirements.txt\n",
        "\n",
        "pandas==1.3.5\n",
        "matplotlib==3.2.2\n",
        "jax==0.3.8\n",
        "numpyro==0.9.2\n",
        "statsmodels==0.10.2"
      ],
      "metadata": {
        "colab": {
          "base_uri": "https://localhost:8080/"
        },
        "id": "YPbsaG63td3W",
        "outputId": "a9415d72-47b1-4831-8451-c0b133241f00"
      },
      "execution_count": 1,
      "outputs": [
        {
          "output_type": "stream",
          "name": "stdout",
          "text": [
            "Writing requirements.txt\n"
          ]
        }
      ]
    },
    {
      "cell_type": "code",
      "source": [
        "!pip install -r requirements.txt"
      ],
      "metadata": {
        "colab": {
          "base_uri": "https://localhost:8080/"
        },
        "id": "Qmat3AXMth-k",
        "outputId": "4daad6a2-0242-427b-d8a2-02782ae2d104"
      },
      "execution_count": 2,
      "outputs": [
        {
          "output_type": "stream",
          "name": "stdout",
          "text": [
            "Requirement already satisfied: pandas==1.3.5 in /usr/local/lib/python3.7/dist-packages (from -r requirements.txt (line 2)) (1.3.5)\n",
            "Requirement already satisfied: matplotlib==3.2.2 in /usr/local/lib/python3.7/dist-packages (from -r requirements.txt (line 3)) (3.2.2)\n",
            "Requirement already satisfied: jax==0.3.8 in /usr/local/lib/python3.7/dist-packages (from -r requirements.txt (line 4)) (0.3.8)\n",
            "Collecting numpyro==0.9.2\n",
            "  Downloading numpyro-0.9.2-py3-none-any.whl (283 kB)\n",
            "\u001b[K     |████████████████████████████████| 283 kB 10.6 MB/s \n",
            "\u001b[?25hRequirement already satisfied: statsmodels==0.10.2 in /usr/local/lib/python3.7/dist-packages (from -r requirements.txt (line 6)) (0.10.2)\n",
            "Requirement already satisfied: pytz>=2017.3 in /usr/local/lib/python3.7/dist-packages (from pandas==1.3.5->-r requirements.txt (line 2)) (2022.1)\n",
            "Requirement already satisfied: numpy>=1.17.3 in /usr/local/lib/python3.7/dist-packages (from pandas==1.3.5->-r requirements.txt (line 2)) (1.21.6)\n",
            "Requirement already satisfied: python-dateutil>=2.7.3 in /usr/local/lib/python3.7/dist-packages (from pandas==1.3.5->-r requirements.txt (line 2)) (2.8.2)\n",
            "Requirement already satisfied: cycler>=0.10 in /usr/local/lib/python3.7/dist-packages (from matplotlib==3.2.2->-r requirements.txt (line 3)) (0.11.0)\n",
            "Requirement already satisfied: kiwisolver>=1.0.1 in /usr/local/lib/python3.7/dist-packages (from matplotlib==3.2.2->-r requirements.txt (line 3)) (1.4.2)\n",
            "Requirement already satisfied: pyparsing!=2.0.4,!=2.1.2,!=2.1.6,>=2.0.1 in /usr/local/lib/python3.7/dist-packages (from matplotlib==3.2.2->-r requirements.txt (line 3)) (3.0.8)\n",
            "Requirement already satisfied: opt-einsum in /usr/local/lib/python3.7/dist-packages (from jax==0.3.8->-r requirements.txt (line 4)) (3.3.0)\n",
            "Requirement already satisfied: typing-extensions in /usr/local/lib/python3.7/dist-packages (from jax==0.3.8->-r requirements.txt (line 4)) (4.2.0)\n",
            "Requirement already satisfied: scipy>=1.2.1 in /usr/local/lib/python3.7/dist-packages (from jax==0.3.8->-r requirements.txt (line 4)) (1.4.1)\n",
            "Requirement already satisfied: absl-py in /usr/local/lib/python3.7/dist-packages (from jax==0.3.8->-r requirements.txt (line 4)) (1.0.0)\n",
            "Requirement already satisfied: jaxlib>=0.1.65 in /usr/local/lib/python3.7/dist-packages (from numpyro==0.9.2->-r requirements.txt (line 5)) (0.3.7+cuda11.cudnn805)\n",
            "Collecting multipledispatch\n",
            "  Downloading multipledispatch-0.6.0-py3-none-any.whl (11 kB)\n",
            "Requirement already satisfied: tqdm in /usr/local/lib/python3.7/dist-packages (from numpyro==0.9.2->-r requirements.txt (line 5)) (4.64.0)\n",
            "Requirement already satisfied: patsy>=0.4.0 in /usr/local/lib/python3.7/dist-packages (from statsmodels==0.10.2->-r requirements.txt (line 6)) (0.5.2)\n",
            "Requirement already satisfied: flatbuffers<3.0,>=1.12 in /usr/local/lib/python3.7/dist-packages (from jaxlib>=0.1.65->numpyro==0.9.2->-r requirements.txt (line 5)) (2.0)\n",
            "Requirement already satisfied: six in /usr/local/lib/python3.7/dist-packages (from patsy>=0.4.0->statsmodels==0.10.2->-r requirements.txt (line 6)) (1.15.0)\n",
            "Installing collected packages: multipledispatch, numpyro\n",
            "Successfully installed multipledispatch-0.6.0 numpyro-0.9.2\n"
          ]
        }
      ]
    },
    {
      "cell_type": "markdown",
      "source": [
        "## 2. Code"
      ],
      "metadata": {
        "id": "owoLig2m6gEw"
      }
    },
    {
      "cell_type": "markdown",
      "source": [
        "### 2.1. Import Python Package"
      ],
      "metadata": {
        "id": "nkWBEOIF6ixa"
      }
    },
    {
      "cell_type": "markdown",
      "source": [
        "Import python packages and show its version. Showing version is important since it will enable other users to replicate your work using same python version and python packages version."
      ],
      "metadata": {
        "id": "9HKYgi3V6nH6"
      }
    },
    {
      "cell_type": "code",
      "source": [
        "import os\n",
        "import platform\n",
        "\n",
        "import matplotlib\n",
        "from matplotlib import pyplot as plt\n",
        "\n",
        "import pandas as pd\n",
        "from IPython.display import set_matplotlib_formats\n",
        "\n",
        "import statsmodels\n",
        "from statsmodels.tsa.seasonal import seasonal_decompose\n",
        "\n",
        "import jax\n",
        "from jax import numpy as jnp\n",
        "from jax import random\n",
        "\n",
        "import numpyro\n",
        "from numpyro import distributions as dist\n",
        "from numpyro.contrib.control_flow import scan\n",
        "from numpyro.diagnostics import autocorrelation, hpdi\n",
        "from numpyro.infer import MCMC, NUTS, Predictive\n",
        "\n",
        "if \"NUMPYRO_SPHINXBUILD\" in os.environ:\n",
        "    set_matplotlib_formats(\"svg\")\n",
        "\n",
        "numpyro.set_host_device_count(8)\n",
        "\n",
        "\n",
        "print('Python: ', platform.python_version())\n",
        "print('pandas: ', pd.__version__)\n",
        "print('matplotlib: ', matplotlib.__version__)\n",
        "print('Jax: ', jax.__version__)\n",
        "print('NumPyro: ', numpyro.__version__)\n",
        "print('statsmodels: ', statsmodels.__version__)"
      ],
      "metadata": {
        "colab": {
          "base_uri": "https://localhost:8080/"
        },
        "id": "fQ2zajmlk0TQ",
        "outputId": "44d0f8fc-6b7e-4d8e-f81c-65475fe13754"
      },
      "execution_count": 3,
      "outputs": [
        {
          "output_type": "stream",
          "name": "stderr",
          "text": [
            "/usr/local/lib/python3.7/dist-packages/statsmodels/tools/_testing.py:19: FutureWarning: pandas.util.testing is deprecated. Use the functions in the public API at pandas.testing instead.\n",
            "  import pandas.util.testing as tm\n"
          ]
        },
        {
          "output_type": "stream",
          "name": "stdout",
          "text": [
            "Python:  3.7.13\n",
            "pandas:  1.3.5\n",
            "matplotlib:  3.2.2\n",
            "Jax:  0.3.8\n",
            "NumPyro:  0.9.2\n",
            "statsmodels:  0.10.2\n"
          ]
        }
      ]
    },
    {
      "cell_type": "markdown",
      "source": [
        "### 2.2. Mount Storage"
      ],
      "metadata": {
        "id": "bg5A4pyZ6028"
      }
    },
    {
      "cell_type": "code",
      "source": [
        "from google.colab import drive\n",
        "drive.mount('/content/drive')"
      ],
      "metadata": {
        "id": "hZXG8Wn6ojmw",
        "colab": {
          "base_uri": "https://localhost:8080/"
        },
        "outputId": "09ad8511-3600-4b58-e858-286178276f47"
      },
      "execution_count": 4,
      "outputs": [
        {
          "output_type": "stream",
          "name": "stdout",
          "text": [
            "Mounted at /content/drive\n"
          ]
        }
      ]
    },
    {
      "cell_type": "markdown",
      "source": [
        "### 2.3. Prep Data"
      ],
      "metadata": {
        "id": "1BcdudrX67Pp"
      }
    },
    {
      "cell_type": "markdown",
      "source": [
        "#### Import and validate dataset"
      ],
      "metadata": {
        "id": "sNtGQaV36_VP"
      }
    },
    {
      "cell_type": "code",
      "source": [
        "retail_sales = pd.read_csv('/content/drive/MyDrive/Colab Notebooks/forecast-sales/data/mrtssales92-present.csv', index_col = None)\n",
        "retail_sales.info()"
      ],
      "metadata": {
        "id": "hyOA9YiBpNSV",
        "colab": {
          "base_uri": "https://localhost:8080/"
        },
        "outputId": "f4caa1a7-8e45-421a-f789-19fe0854656e"
      },
      "execution_count": 5,
      "outputs": [
        {
          "output_type": "stream",
          "name": "stdout",
          "text": [
            "<class 'pandas.core.frame.DataFrame'>\n",
            "RangeIndex: 205 entries, 0 to 204\n",
            "Data columns (total 2 columns):\n",
            " #   Column       Non-Null Count  Dtype \n",
            "---  ------       --------------  ----- \n",
            " 0   month        205 non-null    object\n",
            " 1   sales_total  205 non-null    int64 \n",
            "dtypes: int64(1), object(1)\n",
            "memory usage: 3.3+ KB\n"
          ]
        }
      ]
    },
    {
      "cell_type": "markdown",
      "source": [
        "#### Resize dataset"
      ],
      "metadata": {
        "id": "Y8wuSMiU7S7D"
      }
    },
    {
      "cell_type": "markdown",
      "source": [
        "We will ONLY be using retail sales data from 01/01/2005 thru 12/31/2018."
      ],
      "metadata": {
        "id": "42_gHTZr7Z4G"
      }
    },
    {
      "cell_type": "code",
      "source": [
        "retail_sales = retail_sales[:-37]\n",
        "retail_sales.info()\n",
        "retail_sales.tail(5)"
      ],
      "metadata": {
        "id": "N3egiM887yN1",
        "colab": {
          "base_uri": "https://localhost:8080/",
          "height": 362
        },
        "outputId": "6d3130bb-03b1-444a-d4a1-c51d8b990813"
      },
      "execution_count": 6,
      "outputs": [
        {
          "output_type": "stream",
          "name": "stdout",
          "text": [
            "<class 'pandas.core.frame.DataFrame'>\n",
            "RangeIndex: 168 entries, 0 to 167\n",
            "Data columns (total 2 columns):\n",
            " #   Column       Non-Null Count  Dtype \n",
            "---  ------       --------------  ----- \n",
            " 0   month        168 non-null    object\n",
            " 1   sales_total  168 non-null    int64 \n",
            "dtypes: int64(1), object(1)\n",
            "memory usage: 2.8+ KB\n"
          ]
        },
        {
          "output_type": "execute_result",
          "data": {
            "text/plain": [
              "         month  sales_total\n",
              "163   8/1/2018       520544\n",
              "164   9/1/2018       477137\n",
              "165  10/1/2018       503602\n",
              "166  11/1/2018       518457\n",
              "167  12/1/2018       556614"
            ],
            "text/html": [
              "\n",
              "  <div id=\"df-5edda8fc-67db-4165-a7e9-df9dfe3afb56\">\n",
              "    <div class=\"colab-df-container\">\n",
              "      <div>\n",
              "<style scoped>\n",
              "    .dataframe tbody tr th:only-of-type {\n",
              "        vertical-align: middle;\n",
              "    }\n",
              "\n",
              "    .dataframe tbody tr th {\n",
              "        vertical-align: top;\n",
              "    }\n",
              "\n",
              "    .dataframe thead th {\n",
              "        text-align: right;\n",
              "    }\n",
              "</style>\n",
              "<table border=\"1\" class=\"dataframe\">\n",
              "  <thead>\n",
              "    <tr style=\"text-align: right;\">\n",
              "      <th></th>\n",
              "      <th>month</th>\n",
              "      <th>sales_total</th>\n",
              "    </tr>\n",
              "  </thead>\n",
              "  <tbody>\n",
              "    <tr>\n",
              "      <th>163</th>\n",
              "      <td>8/1/2018</td>\n",
              "      <td>520544</td>\n",
              "    </tr>\n",
              "    <tr>\n",
              "      <th>164</th>\n",
              "      <td>9/1/2018</td>\n",
              "      <td>477137</td>\n",
              "    </tr>\n",
              "    <tr>\n",
              "      <th>165</th>\n",
              "      <td>10/1/2018</td>\n",
              "      <td>503602</td>\n",
              "    </tr>\n",
              "    <tr>\n",
              "      <th>166</th>\n",
              "      <td>11/1/2018</td>\n",
              "      <td>518457</td>\n",
              "    </tr>\n",
              "    <tr>\n",
              "      <th>167</th>\n",
              "      <td>12/1/2018</td>\n",
              "      <td>556614</td>\n",
              "    </tr>\n",
              "  </tbody>\n",
              "</table>\n",
              "</div>\n",
              "      <button class=\"colab-df-convert\" onclick=\"convertToInteractive('df-5edda8fc-67db-4165-a7e9-df9dfe3afb56')\"\n",
              "              title=\"Convert this dataframe to an interactive table.\"\n",
              "              style=\"display:none;\">\n",
              "        \n",
              "  <svg xmlns=\"http://www.w3.org/2000/svg\" height=\"24px\"viewBox=\"0 0 24 24\"\n",
              "       width=\"24px\">\n",
              "    <path d=\"M0 0h24v24H0V0z\" fill=\"none\"/>\n",
              "    <path d=\"M18.56 5.44l.94 2.06.94-2.06 2.06-.94-2.06-.94-.94-2.06-.94 2.06-2.06.94zm-11 1L8.5 8.5l.94-2.06 2.06-.94-2.06-.94L8.5 2.5l-.94 2.06-2.06.94zm10 10l.94 2.06.94-2.06 2.06-.94-2.06-.94-.94-2.06-.94 2.06-2.06.94z\"/><path d=\"M17.41 7.96l-1.37-1.37c-.4-.4-.92-.59-1.43-.59-.52 0-1.04.2-1.43.59L10.3 9.45l-7.72 7.72c-.78.78-.78 2.05 0 2.83L4 21.41c.39.39.9.59 1.41.59.51 0 1.02-.2 1.41-.59l7.78-7.78 2.81-2.81c.8-.78.8-2.07 0-2.86zM5.41 20L4 18.59l7.72-7.72 1.47 1.35L5.41 20z\"/>\n",
              "  </svg>\n",
              "      </button>\n",
              "      \n",
              "  <style>\n",
              "    .colab-df-container {\n",
              "      display:flex;\n",
              "      flex-wrap:wrap;\n",
              "      gap: 12px;\n",
              "    }\n",
              "\n",
              "    .colab-df-convert {\n",
              "      background-color: #E8F0FE;\n",
              "      border: none;\n",
              "      border-radius: 50%;\n",
              "      cursor: pointer;\n",
              "      display: none;\n",
              "      fill: #1967D2;\n",
              "      height: 32px;\n",
              "      padding: 0 0 0 0;\n",
              "      width: 32px;\n",
              "    }\n",
              "\n",
              "    .colab-df-convert:hover {\n",
              "      background-color: #E2EBFA;\n",
              "      box-shadow: 0px 1px 2px rgba(60, 64, 67, 0.3), 0px 1px 3px 1px rgba(60, 64, 67, 0.15);\n",
              "      fill: #174EA6;\n",
              "    }\n",
              "\n",
              "    [theme=dark] .colab-df-convert {\n",
              "      background-color: #3B4455;\n",
              "      fill: #D2E3FC;\n",
              "    }\n",
              "\n",
              "    [theme=dark] .colab-df-convert:hover {\n",
              "      background-color: #434B5C;\n",
              "      box-shadow: 0px 1px 3px 1px rgba(0, 0, 0, 0.15);\n",
              "      filter: drop-shadow(0px 1px 2px rgba(0, 0, 0, 0.3));\n",
              "      fill: #FFFFFF;\n",
              "    }\n",
              "  </style>\n",
              "\n",
              "      <script>\n",
              "        const buttonEl =\n",
              "          document.querySelector('#df-5edda8fc-67db-4165-a7e9-df9dfe3afb56 button.colab-df-convert');\n",
              "        buttonEl.style.display =\n",
              "          google.colab.kernel.accessAllowed ? 'block' : 'none';\n",
              "\n",
              "        async function convertToInteractive(key) {\n",
              "          const element = document.querySelector('#df-5edda8fc-67db-4165-a7e9-df9dfe3afb56');\n",
              "          const dataTable =\n",
              "            await google.colab.kernel.invokeFunction('convertToInteractive',\n",
              "                                                     [key], {});\n",
              "          if (!dataTable) return;\n",
              "\n",
              "          const docLinkHtml = 'Like what you see? Visit the ' +\n",
              "            '<a target=\"_blank\" href=https://colab.research.google.com/notebooks/data_table.ipynb>data table notebook</a>'\n",
              "            + ' to learn more about interactive tables.';\n",
              "          element.innerHTML = '';\n",
              "          dataTable['output_type'] = 'display_data';\n",
              "          await google.colab.output.renderOutput(dataTable, element);\n",
              "          const docLink = document.createElement('div');\n",
              "          docLink.innerHTML = docLinkHtml;\n",
              "          element.appendChild(docLink);\n",
              "        }\n",
              "      </script>\n",
              "    </div>\n",
              "  </div>\n",
              "  "
            ]
          },
          "metadata": {},
          "execution_count": 6
        }
      ]
    },
    {
      "cell_type": "markdown",
      "source": [
        "#### Convert 'month' column to datetime column."
      ],
      "metadata": {
        "id": "6ZKEFU_R7K24"
      }
    },
    {
      "cell_type": "code",
      "source": [
        "retail_sales['month'] = pd.to_datetime(retail_sales.month)\n",
        "retail_sales.head(5)"
      ],
      "metadata": {
        "id": "CWUElzlmsNb2",
        "colab": {
          "base_uri": "https://localhost:8080/",
          "height": 206
        },
        "outputId": "508b6c5f-e000-4721-e1c1-afd7250abbf6"
      },
      "execution_count": 7,
      "outputs": [
        {
          "output_type": "execute_result",
          "data": {
            "text/plain": [
              "       month  sales_total\n",
              "0 2005-01-01       293261\n",
              "1 2005-02-01       295062\n",
              "2 2005-03-01       339141\n",
              "3 2005-04-01       335632\n",
              "4 2005-05-01       345348"
            ],
            "text/html": [
              "\n",
              "  <div id=\"df-e66bd736-8e6d-4bba-ba81-e6e15b146bd9\">\n",
              "    <div class=\"colab-df-container\">\n",
              "      <div>\n",
              "<style scoped>\n",
              "    .dataframe tbody tr th:only-of-type {\n",
              "        vertical-align: middle;\n",
              "    }\n",
              "\n",
              "    .dataframe tbody tr th {\n",
              "        vertical-align: top;\n",
              "    }\n",
              "\n",
              "    .dataframe thead th {\n",
              "        text-align: right;\n",
              "    }\n",
              "</style>\n",
              "<table border=\"1\" class=\"dataframe\">\n",
              "  <thead>\n",
              "    <tr style=\"text-align: right;\">\n",
              "      <th></th>\n",
              "      <th>month</th>\n",
              "      <th>sales_total</th>\n",
              "    </tr>\n",
              "  </thead>\n",
              "  <tbody>\n",
              "    <tr>\n",
              "      <th>0</th>\n",
              "      <td>2005-01-01</td>\n",
              "      <td>293261</td>\n",
              "    </tr>\n",
              "    <tr>\n",
              "      <th>1</th>\n",
              "      <td>2005-02-01</td>\n",
              "      <td>295062</td>\n",
              "    </tr>\n",
              "    <tr>\n",
              "      <th>2</th>\n",
              "      <td>2005-03-01</td>\n",
              "      <td>339141</td>\n",
              "    </tr>\n",
              "    <tr>\n",
              "      <th>3</th>\n",
              "      <td>2005-04-01</td>\n",
              "      <td>335632</td>\n",
              "    </tr>\n",
              "    <tr>\n",
              "      <th>4</th>\n",
              "      <td>2005-05-01</td>\n",
              "      <td>345348</td>\n",
              "    </tr>\n",
              "  </tbody>\n",
              "</table>\n",
              "</div>\n",
              "      <button class=\"colab-df-convert\" onclick=\"convertToInteractive('df-e66bd736-8e6d-4bba-ba81-e6e15b146bd9')\"\n",
              "              title=\"Convert this dataframe to an interactive table.\"\n",
              "              style=\"display:none;\">\n",
              "        \n",
              "  <svg xmlns=\"http://www.w3.org/2000/svg\" height=\"24px\"viewBox=\"0 0 24 24\"\n",
              "       width=\"24px\">\n",
              "    <path d=\"M0 0h24v24H0V0z\" fill=\"none\"/>\n",
              "    <path d=\"M18.56 5.44l.94 2.06.94-2.06 2.06-.94-2.06-.94-.94-2.06-.94 2.06-2.06.94zm-11 1L8.5 8.5l.94-2.06 2.06-.94-2.06-.94L8.5 2.5l-.94 2.06-2.06.94zm10 10l.94 2.06.94-2.06 2.06-.94-2.06-.94-.94-2.06-.94 2.06-2.06.94z\"/><path d=\"M17.41 7.96l-1.37-1.37c-.4-.4-.92-.59-1.43-.59-.52 0-1.04.2-1.43.59L10.3 9.45l-7.72 7.72c-.78.78-.78 2.05 0 2.83L4 21.41c.39.39.9.59 1.41.59.51 0 1.02-.2 1.41-.59l7.78-7.78 2.81-2.81c.8-.78.8-2.07 0-2.86zM5.41 20L4 18.59l7.72-7.72 1.47 1.35L5.41 20z\"/>\n",
              "  </svg>\n",
              "      </button>\n",
              "      \n",
              "  <style>\n",
              "    .colab-df-container {\n",
              "      display:flex;\n",
              "      flex-wrap:wrap;\n",
              "      gap: 12px;\n",
              "    }\n",
              "\n",
              "    .colab-df-convert {\n",
              "      background-color: #E8F0FE;\n",
              "      border: none;\n",
              "      border-radius: 50%;\n",
              "      cursor: pointer;\n",
              "      display: none;\n",
              "      fill: #1967D2;\n",
              "      height: 32px;\n",
              "      padding: 0 0 0 0;\n",
              "      width: 32px;\n",
              "    }\n",
              "\n",
              "    .colab-df-convert:hover {\n",
              "      background-color: #E2EBFA;\n",
              "      box-shadow: 0px 1px 2px rgba(60, 64, 67, 0.3), 0px 1px 3px 1px rgba(60, 64, 67, 0.15);\n",
              "      fill: #174EA6;\n",
              "    }\n",
              "\n",
              "    [theme=dark] .colab-df-convert {\n",
              "      background-color: #3B4455;\n",
              "      fill: #D2E3FC;\n",
              "    }\n",
              "\n",
              "    [theme=dark] .colab-df-convert:hover {\n",
              "      background-color: #434B5C;\n",
              "      box-shadow: 0px 1px 3px 1px rgba(0, 0, 0, 0.15);\n",
              "      filter: drop-shadow(0px 1px 2px rgba(0, 0, 0, 0.3));\n",
              "      fill: #FFFFFF;\n",
              "    }\n",
              "  </style>\n",
              "\n",
              "      <script>\n",
              "        const buttonEl =\n",
              "          document.querySelector('#df-e66bd736-8e6d-4bba-ba81-e6e15b146bd9 button.colab-df-convert');\n",
              "        buttonEl.style.display =\n",
              "          google.colab.kernel.accessAllowed ? 'block' : 'none';\n",
              "\n",
              "        async function convertToInteractive(key) {\n",
              "          const element = document.querySelector('#df-e66bd736-8e6d-4bba-ba81-e6e15b146bd9');\n",
              "          const dataTable =\n",
              "            await google.colab.kernel.invokeFunction('convertToInteractive',\n",
              "                                                     [key], {});\n",
              "          if (!dataTable) return;\n",
              "\n",
              "          const docLinkHtml = 'Like what you see? Visit the ' +\n",
              "            '<a target=\"_blank\" href=https://colab.research.google.com/notebooks/data_table.ipynb>data table notebook</a>'\n",
              "            + ' to learn more about interactive tables.';\n",
              "          element.innerHTML = '';\n",
              "          dataTable['output_type'] = 'display_data';\n",
              "          await google.colab.output.renderOutput(dataTable, element);\n",
              "          const docLink = document.createElement('div');\n",
              "          docLink.innerHTML = docLinkHtml;\n",
              "          element.appendChild(docLink);\n",
              "        }\n",
              "      </script>\n",
              "    </div>\n",
              "  </div>\n",
              "  "
            ]
          },
          "metadata": {},
          "execution_count": 7
        }
      ]
    },
    {
      "cell_type": "markdown",
      "source": [
        "#### Split datasets for Exploratory Data Analysis\n",
        "- Train\n",
        "- Test"
      ],
      "metadata": {
        "id": "yQ0P4gGr85Rq"
      }
    },
    {
      "cell_type": "code",
      "source": [
        "retail_sales_train = retail_sales[:-24]\n",
        "retail_sales_test = retail_sales[-24:]\n",
        "\n",
        "print('Train: ', retail_sales_train.shape)\n",
        "print('Test: ', retail_sales_test.shape)"
      ],
      "metadata": {
        "colab": {
          "base_uri": "https://localhost:8080/"
        },
        "id": "q_9RRdUh8_ft",
        "outputId": "fe534e05-8c37-4277-c0d1-c7e941c765f5"
      },
      "execution_count": 8,
      "outputs": [
        {
          "output_type": "stream",
          "name": "stdout",
          "text": [
            "Train:  (144, 2)\n",
            "Test:  (24, 2)\n"
          ]
        }
      ]
    },
    {
      "cell_type": "markdown",
      "source": [
        "### 2.4. Exploratory Data Analysis"
      ],
      "metadata": {
        "id": "PmoChUwi9313"
      }
    },
    {
      "cell_type": "markdown",
      "source": [
        "#### Set Plotting Parameters"
      ],
      "metadata": {
        "id": "8VvMHv8i91Ib"
      }
    },
    {
      "cell_type": "code",
      "source": [
        "# Get current size\n",
        "fig_size = plt.rcParams[\"figure.figsize\"]\n",
        " \n",
        "# Set figure width to 12 and height to 9\n",
        "fig_size[0] = 30\n",
        "fig_size[1] = 5\n",
        "plt.rcParams[\"figure.figsize\"] = fig_size"
      ],
      "metadata": {
        "id": "OxZ4BQrL-A_A"
      },
      "execution_count": 9,
      "outputs": []
    },
    {
      "cell_type": "markdown",
      "source": [
        "#### Chart Retail Sales"
      ],
      "metadata": {
        "id": "Er5bpCAQ-DhT"
      }
    },
    {
      "cell_type": "code",
      "source": [
        "retail_sales_train.plot(x='month', y='sales_total', kind='line', grid=1)\n",
        "plt.show()"
      ],
      "metadata": {
        "colab": {
          "base_uri": "https://localhost:8080/",
          "height": 336
        },
        "id": "Lg6ewURF-NML",
        "outputId": "383f5596-e864-41de-888e-35405dcae599"
      },
      "execution_count": 10,
      "outputs": [
        {
          "output_type": "display_data",
          "data": {
            "text/plain": [
              "<Figure size 2160x360 with 1 Axes>"
            ],
            "image/png": "[encoded data removed]"
          },
          "metadata": {
            "needs_background": "light"
          }
        }
      ]
    },
    {
      "cell_type": "markdown",
      "source": [
        "#### Determine Retail Sales Data (Time-Series) has trend"
      ],
      "metadata": {
        "id": "hj6TPNS8-WG7"
      }
    },
    {
      "cell_type": "markdown",
      "source": [
        "Next, we need to determine if the retail sales data is non-stationary or it has trends using Dickey Fuller Test, which is a statistical hypothesis test that allows you to detect non-stationarity. The stationary time-series implies there is no predictable pattern in the long term."
      ],
      "metadata": {
        "id": "j4n4uCt_-XuY"
      }
    },
    {
      "cell_type": "code",
      "source": [
        "from statsmodels.tsa.stattools import adfuller\n",
        "adf, pval, usedlag, nobs, crit_vals, icbest =  adfuller(retail_sales_train.sales_total.values)\n",
        "print('ADF test statistic:', adf)\n",
        "print('ADF p-values:', pval)\n",
        "print('ADF number of lags used:', usedlag)\n",
        "print('ADF number of observations:', nobs)\n",
        "print('ADF critical values:', crit_vals)\n",
        "print('ADF best information criterion:', icbest)"
      ],
      "metadata": {
        "colab": {
          "base_uri": "https://localhost:8080/"
        },
        "id": "2lkqB77T-biZ",
        "outputId": "699fb04d-1752-4da0-f866-9d6d0ec13d13"
      },
      "execution_count": 11,
      "outputs": [
        {
          "output_type": "stream",
          "name": "stdout",
          "text": [
            "ADF test statistic: -0.41114662261582896\n",
            "ADF p-values: 0.9082209893408628\n",
            "ADF number of lags used: 14\n",
            "ADF number of observations: 129\n",
            "ADF critical values: {'1%': -3.482087964046026, '5%': -2.8842185101614626, '10%': -2.578864381347275}\n",
            "ADF best information criterion: 2712.938864098956\n"
          ]
        }
      ]
    },
    {
      "cell_type": "markdown",
      "source": [
        "Looking at the value, which is bigger than 0.05, you can determine time-series data is non-stationary."
      ],
      "metadata": {
        "id": "fTwlHlDx-gzE"
      }
    },
    {
      "cell_type": "markdown",
      "source": [
        "### 2.5. Prep Data for Modeling"
      ],
      "metadata": {
        "id": "vb5cGonHAKGm"
      }
    },
    {
      "cell_type": "markdown",
      "source": [
        "For NumPyro, we will only need \"sales_total\" since data/time is not included for forecasting."
      ],
      "metadata": {
        "id": "N3L_LMrx6hJy"
      }
    },
    {
      "cell_type": "code",
      "source": [
        "retail_sales_data = retail_sales[\"sales_total\"].values\n",
        "print(\"Length of time series:\", retail_sales.shape[0])"
      ],
      "metadata": {
        "id": "8MF5Jzu9CTph",
        "colab": {
          "base_uri": "https://localhost:8080/"
        },
        "outputId": "94b1df6d-975e-477c-dab9-98c79c505876"
      },
      "execution_count": 12,
      "outputs": [
        {
          "output_type": "stream",
          "name": "stdout",
          "text": [
            "Length of time series: 168\n"
          ]
        }
      ]
    },
    {
      "cell_type": "code",
      "source": [
        "#plt.figure(figsize=(20, 5))\n",
        "#plt.plot(retail_sales[\"month\"], retail_sales_data)\n",
        "#plt.show()"
      ],
      "metadata": {
        "id": "2-mSw1qKDGx-"
      },
      "execution_count": null,
      "outputs": []
    },
    {
      "cell_type": "markdown",
      "source": [
        "Split dataset to train and test then convert the dataframe to Jax Numpy array."
      ],
      "metadata": {
        "id": "TcRoN5pz6uxJ"
      }
    },
    {
      "cell_type": "code",
      "source": [
        "y_train, y_test = jnp.array(retail_sales_data[:144], dtype=jnp.float32), retail_sales_data[144:]\n",
        "y_train.shape, y_test.shape"
      ],
      "metadata": {
        "colab": {
          "base_uri": "https://localhost:8080/"
        },
        "id": "3-wJ4i2rxNdm",
        "outputId": "0e295fb8-2c52-4ce5-d5d9-166a286c8c12"
      },
      "execution_count": 13,
      "outputs": [
        {
          "output_type": "execute_result",
          "data": {
            "text/plain": [
              "((144,), (24,))"
            ]
          },
          "metadata": {},
          "execution_count": 13
        }
      ]
    },
    {
      "cell_type": "code",
      "source": [
        "y_train"
      ],
      "metadata": {
        "colab": {
          "base_uri": "https://localhost:8080/"
        },
        "id": "qDs4HIhs6_FS",
        "outputId": "23af31fc-b1ef-4ff3-94ef-bc4503a8c462"
      },
      "execution_count": 14,
      "outputs": [
        {
          "output_type": "execute_result",
          "data": {
            "text/plain": [
              "DeviceArray([293261., 295062., 339141., 335632., 345348., 350945.,\n",
              "             351827., 355701., 333289., 336134., 343798., 405608.,\n",
              "             318546., 314051., 361993., 351667., 373560., 366615.,\n",
              "             362203., 375795., 346214., 348796., 356928., 417991.,\n",
              "             328877., 323162., 374142., 358535., 391512., 376639.,\n",
              "             372354., 388016., 353936., 368681., 377802., 426077.,\n",
              "             342639., 343893., 372907., 368920., 397956., 378507.,\n",
              "             383726., 382862., 350542., 349847., 335545., 384236.,\n",
              "             310188., 299412., 328526., 329854., 347728., 344405.,\n",
              "             348071., 353392., 324646., 338610., 339363., 400281.,\n",
              "             314557., 310925., 360679., 356333., 365605., 358604.,\n",
              "             361939., 362627., 345999., 355209., 365828., 426663.,\n",
              "             335587., 337314., 387088., 380775., 391999., 388700.,\n",
              "             384682., 394609., 375025., 379482., 391220., 451821.,\n",
              "             355184., 372401., 414149., 392949., 418608., 400975.,\n",
              "             396026., 417922., 385609., 399400., 411065., 462102.,\n",
              "             375468., 373974., 421748., 408551., 437214., 414816.,\n",
              "             422532., 435215., 396415., 415942., 424095., 477362.,\n",
              "             383488., 380454., 433052., 431598., 459441., 433458.,\n",
              "             443498., 451663., 421628., 438697., 439344., 502208.,\n",
              "             398555., 388766., 446581., 439993., 465244., 450172.,\n",
              "             459960., 458313., 432898., 446746., 446334., 518656.,\n",
              "             401911., 415093., 460910., 451121., 470116., 464721.,\n",
              "             462004., 471690., 448516., 453155., 467232., 539667.],            dtype=float32)"
            ]
          },
          "metadata": {},
          "execution_count": 14
        }
      ]
    },
    {
      "cell_type": "code",
      "source": [
        "y_test"
      ],
      "metadata": {
        "colab": {
          "base_uri": "https://localhost:8080/"
        },
        "id": "dwivqIMb7Gow",
        "outputId": "a92ad2af-327f-4078-9c1b-fce1e874c4c8"
      },
      "execution_count": 15,
      "outputs": [
        {
          "output_type": "execute_result",
          "data": {
            "text/plain": [
              "array([421943, 418315, 483082, 465788, 494621, 481729, 475374, 490324,\n",
              "       469710, 476014, 497748, 558215, 444286, 435373, 508383, 480373,\n",
              "       527991, 507106, 505209, 520544, 477137, 503602, 518457, 556614])"
            ]
          },
          "metadata": {},
          "execution_count": 15
        }
      ]
    },
    {
      "cell_type": "markdown",
      "source": [
        "### 2.6. Develop Forecast Model"
      ],
      "metadata": {
        "id": "IrKybsqX-qgM"
      }
    },
    {
      "cell_type": "markdown",
      "source": [
        "#### Define model"
      ],
      "metadata": {
        "id": "vDh60yrQApUS"
      }
    },
    {
      "cell_type": "markdown",
      "source": [
        "Seasonal, Global Trend (SGT) model is copied from NumPyro website => https://num.pyro.ai/en/stable/tutorials/time_series_forecasting.html"
      ],
      "metadata": {
        "id": "D7ryJkgj7eVM"
      }
    },
    {
      "cell_type": "code",
      "source": [
        "def sgt(y, seasonality, future=0):\n",
        "    # heuristically, standard derivation of Cauchy prior depends on\n",
        "    # the max value of data\n",
        "    cauchy_sd = jnp.max(y) / 150\n",
        "\n",
        "    # NB: priors' parameters are taken from\n",
        "    # https://github.com/cbergmeir/Rlgt/blob/master/Rlgt/R/rlgtcontrol.R\n",
        "    nu = numpyro.sample(\"nu\", dist.Uniform(2, 20))\n",
        "    powx = numpyro.sample(\"powx\", dist.Uniform(0, 1))\n",
        "    sigma = numpyro.sample(\"sigma\", dist.HalfCauchy(cauchy_sd))\n",
        "    offset_sigma = numpyro.sample(\n",
        "        \"offset_sigma\", dist.TruncatedCauchy(low=1e-10, loc=1e-10, scale=cauchy_sd)\n",
        "    )\n",
        "\n",
        "    coef_trend = numpyro.sample(\"coef_trend\", dist.Cauchy(0, cauchy_sd))\n",
        "    pow_trend_beta = numpyro.sample(\"pow_trend_beta\", dist.Beta(1, 1))\n",
        "    # pow_trend takes values from -0.5 to 1\n",
        "    pow_trend = 1.5 * pow_trend_beta - 0.5\n",
        "    pow_season = numpyro.sample(\"pow_season\", dist.Beta(1, 1))\n",
        "\n",
        "    level_sm = numpyro.sample(\"level_sm\", dist.Beta(1, 2))\n",
        "    s_sm = numpyro.sample(\"s_sm\", dist.Uniform(0, 1))\n",
        "    init_s = numpyro.sample(\"init_s\", dist.Cauchy(0, y[:seasonality] * 0.3))\n",
        "\n",
        "    def transition_fn(carry, t):\n",
        "        level, s, moving_sum = carry\n",
        "        season = s[0] * level**pow_season\n",
        "        exp_val = level + coef_trend * level**pow_trend + season\n",
        "        exp_val = jnp.clip(exp_val, a_min=0)\n",
        "        # use expected vale when forecasting\n",
        "        y_t = jnp.where(t >= N, exp_val, y[t])\n",
        "\n",
        "        moving_sum = (\n",
        "            moving_sum + y[t] - jnp.where(t >= seasonality, y[t - seasonality], 0.0)\n",
        "        )\n",
        "        level_p = jnp.where(t >= seasonality, moving_sum / seasonality, y_t - season)\n",
        "        level = level_sm * level_p + (1 - level_sm) * level\n",
        "        level = jnp.clip(level, a_min=0)\n",
        "\n",
        "        new_s = (s_sm * (y_t - level) / season + (1 - s_sm)) * s[0]\n",
        "        # repeat s when forecasting\n",
        "        new_s = jnp.where(t >= N, s[0], new_s)\n",
        "        s = jnp.concatenate([s[1:], new_s[None]], axis=0)\n",
        "\n",
        "        omega = sigma * exp_val**powx + offset_sigma\n",
        "        y_ = numpyro.sample(\"y\", dist.StudentT(nu, exp_val, omega))\n",
        "\n",
        "        return (level, s, moving_sum), y_\n",
        "\n",
        "    N = y.shape[0]\n",
        "    level_init = y[0]\n",
        "    s_init = jnp.concatenate([init_s[1:], init_s[:1]], axis=0)\n",
        "    moving_sum = level_init\n",
        "    with numpyro.handlers.condition(data={\"y\": y[1:]}):\n",
        "        _, ys = scan(\n",
        "            transition_fn, (level_init, s_init, moving_sum), jnp.arange(1, N + future)\n",
        "        )\n",
        "    if future > 0:\n",
        "        numpyro.deterministic(\"y_forecast\", ys[-future:])"
      ],
      "metadata": {
        "id": "gr5DwLDBPlYn"
      },
      "execution_count": 18,
      "outputs": []
    },
    {
      "cell_type": "markdown",
      "source": [
        "Choose a good value for seasonality. I used seasonality = 60, but there must be a better way to determine this number."
      ],
      "metadata": {
        "id": "YAIKhzdS8Av0"
      }
    },
    {
      "cell_type": "code",
      "source": [
        "print(\"Lag values sorted according to their autocorrelation values:\\n\")\n",
        "print(jnp.argsort(autocorrelation(y_train))[::-1])"
      ],
      "metadata": {
        "colab": {
          "base_uri": "https://localhost:8080/"
        },
        "id": "bZ3BdMT71zNi",
        "outputId": "43ecfedf-cbbe-4f6f-aa0a-677e75f4cda8"
      },
      "execution_count": 16,
      "outputs": [
        {
          "output_type": "stream",
          "name": "stdout",
          "text": [
            "Lag values sorted according to their autocorrelation values:\n",
            "\n",
            "[  0  12   5   1   4   7   3  24   8   2   6   9  11  17  13  16  19  36\n",
            "  10  15  14  20  18  21  23  48  29  25  28  31  22  27  26  32  30  33\n",
            "  41  40  43  35  37  39  44  34  42  38  45  60  47  49  46  52  53  51\n",
            "  55  50  54  56  57  72  59  58  61  65  64  96  63  84  67  62  66  68\n",
            " 108  69  71  77  76  73  70  79  75 101 100  80  89  74 103  78  91  88\n",
            "  97  99  81  83  95  92 102  85  87  93  90  98 104 120  86  82 105  94\n",
            " 107 109 106 112 113 111 110 115 114 116 117 132 119 121 124 118 123 125\n",
            " 122 127 126 128 129 131 133 130 134 136 135 137 138 139 140 141 142 143]\n"
          ]
        }
      ]
    },
    {
      "cell_type": "markdown",
      "source": [
        "#### Train model"
      ],
      "metadata": {
        "id": "YlicK1JWRAg-"
      }
    },
    {
      "cell_type": "markdown",
      "source": [
        "Please play with different numbers to obtain best performance."
      ],
      "metadata": {
        "id": "z_xh338iDayY"
      }
    },
    {
      "cell_type": "code",
      "source": [
        "%%time\n",
        "kernel = NUTS(sgt)\n",
        "mcmc = MCMC(kernel, num_warmup=5000, num_samples=5000, num_chains=2)\n",
        "mcmc.run(random.PRNGKey(0), y_train, seasonality=60)\n",
        "mcmc.print_summary()\n",
        "samples = mcmc.get_samples()"
      ],
      "metadata": {
        "id": "xHCPM0zjL0dS",
        "colab": {
          "base_uri": "https://localhost:8080/",
          "height": 1000,
          "referenced_widgets": [
            "54b5270ba97949909286c1e7118197de",
            "dbf83f7f09554c38a595f5ffe6627f6d",
            "18c97e74b4454ebf9a43d25577b2fc68",
            "996b197a5e824b6eb61101ba4e5a99f3",
            "b9c255c0f9c34291822f010a24ade4b9",
            "e3f98ce8d2f6450c86754e55e4f20ab7",
            "211e968d40fa4dfa8ec31f1fb6a23cf1",
            "e618ba9ec7664833996b9dffb4f33844",
            "a4deae55bace47c9a2c0f8b81684cb4f",
            "170a287b4935472f9a8fe24e2066a117",
            "3254756f729f49ebb88d14e2440cc2fc",
            "4e9e8a08adb64291b35ded56050ccfa8",
            "d3655fb762424d478fd8885c67b13226",
            "ae79d71f33b943a5aed1e50838186f5d",
            "4339d31333944ff3836912502d9dfdbd",
            "44382acacf9440518f430a713463593d",
            "fd0e451e53df403e8c4094ff9eadbcb3",
            "d30c387da3bc4268b0acada1c778997d",
            "287b2b2cb8e94abb94701db80bb7017a",
            "8fbad82f5d0d4b209903269c692ee12a",
            "9ff7d4d1b224452cba00a33db8b644e2",
            "36e1d0180a2b49f89546e72491973704"
          ]
        },
        "outputId": "d9feb58b-649a-4811-dcfe-08d068b8e353"
      },
      "execution_count": 34,
      "outputs": [
        {
          "output_type": "display_data",
          "data": {
            "text/plain": [
              "  0%|          | 0/10000 [00:00<?, ?it/s]"
            ],
            "application/vnd.jupyter.widget-view+json": {
              "version_major": 2,
              "version_minor": 0,
              "model_id": "54b5270ba97949909286c1e7118197de"
            }
          },
          "metadata": {}
        },
        {
          "output_type": "display_data",
          "data": {
            "text/plain": [
              "  0%|          | 0/10000 [00:00<?, ?it/s]"
            ],
            "application/vnd.jupyter.widget-view+json": {
              "version_major": 2,
              "version_minor": 0,
              "model_id": "4e9e8a08adb64291b35ded56050ccfa8"
            }
          },
          "metadata": {}
        },
        {
          "output_type": "stream",
          "name": "stdout",
          "text": [
            "\n",
            "                      mean       std    median      5.0%     95.0%     n_eff     r_hat\n",
            "      coef_trend  12926.60  32879.82   4290.40    430.55  25116.68    419.20      1.01\n",
            "       init_s[0]  11332.11  10102.36  11844.45  -3934.94  25927.21   1534.14      1.00\n",
            "       init_s[1]  -9946.26  10418.48  -9306.38 -24772.83   4429.24   2756.61      1.00\n",
            "       init_s[2]  30041.11  12943.60  31360.71  16694.78  46954.26    824.94      1.00\n",
            "       init_s[3]  20422.90  37279.10  27374.57   7928.28  50533.45    108.59      1.02\n",
            "       init_s[4]  19287.04  51993.78  34807.20  -7492.88  58370.48    239.78      1.01\n",
            "       init_s[5] -103690.29  94060.34 -127945.58 -215036.39  49156.58    214.33      1.01\n",
            "       init_s[6]   9668.70  54390.01  27314.97 -62886.11  56876.00    198.86      1.01\n",
            "       init_s[7]  21940.93  35280.89  29969.52   2876.12  51406.94    385.59      1.01\n",
            "       init_s[8]   7680.70  13813.34   8967.25  -6892.89  24473.25    599.17      1.00\n",
            "       init_s[9]  11481.58   9899.00  11961.75  -3417.28  26120.76   2036.82      1.00\n",
            "      init_s[10]  17385.94  11296.97  18354.51   1570.91  33633.59    785.80      1.00\n",
            "      init_s[11]  75889.15  13267.30  77293.19  62041.39  93514.05    698.38      1.01\n",
            "      init_s[12]  -9662.13  10313.83  -9393.84 -25173.09   4701.03   1841.56      1.00\n",
            "      init_s[13] -13327.18   9744.29 -12543.70 -27244.48   1474.81   2062.60      1.00\n",
            "      init_s[14]  31401.42  11161.78  32043.54  17335.59  47477.98   2140.24      1.00\n",
            "      init_s[15]  21144.09  10316.10  21977.21   5092.82  34673.06    667.67      1.00\n",
            "      init_s[16]  39110.31  14720.72  41518.18  23324.66  56537.29    684.68      1.00\n",
            "      init_s[17]  33548.34  11316.84  34849.87  19767.08  49237.71    870.53      1.01\n",
            "      init_s[18]  28556.36  10094.39  29004.60  15349.10  44028.32    228.79      1.01\n",
            "      init_s[19]  42402.00  10006.55  42523.99  28208.53  58661.01    561.43      1.01\n",
            "      init_s[20]  14205.31   9701.55  13407.23   1398.13  29746.60   2324.18      1.00\n",
            "      init_s[21]  16560.45   9850.78  16019.38   1665.85  31343.25   3490.72      1.00\n",
            "      init_s[22]  23482.85  10090.22  23630.10   8762.09  38094.81    566.17      1.00\n",
            "      init_s[23]  81553.54  10575.80  81857.59  66267.77  96485.48   2261.73      1.00\n",
            "      init_s[24]  -6754.70   9579.12  -6391.38 -21057.62   7448.44   2103.76      1.00\n",
            "      init_s[25] -10623.98  10617.36 -11156.45 -25695.05   3791.26    564.99      1.01\n",
            "      init_s[26]  35693.53  10370.63  35769.78  21189.75  49996.23    554.82      1.00\n",
            "      init_s[27]  18403.35  12747.83  20214.00   4080.27  34858.52    593.39      1.01\n",
            "      init_s[28]  49377.94  11003.42  49952.19  34624.69  66072.78   2100.45      1.00\n",
            "      init_s[29]  35090.80  10291.60  35881.75  20702.38  50555.45   2334.22      1.00\n",
            "      init_s[30]  31645.53   9640.49  32179.89  16465.16  45795.29   3499.68      1.00\n",
            "      init_s[31]  46933.11   9673.10  46155.40  33144.00  62554.06   1603.21      1.00\n",
            "      init_s[32]  14325.49  10730.15  13105.91    -50.34  30080.33   1406.71      1.00\n",
            "      init_s[33]  30834.62  13813.08  28212.05   7072.00  48267.30     33.34      1.06\n",
            "      init_s[34]  37930.26  11837.98  36866.39  21140.95  54045.77   1166.21      1.00\n",
            "      init_s[35]  84878.38  11962.98  84070.30  67374.76  99486.94   1946.79      1.00\n",
            "      init_s[36]   3047.26  11066.44   2239.62 -13089.97  18272.54   2492.25      1.00\n",
            "      init_s[37]   5067.89  13906.38   3143.71 -13872.68  20463.24   1053.02      1.00\n",
            "      init_s[38]  38624.41  25359.13  32403.58  13575.28  63295.57    717.83      1.00\n",
            "      init_s[39]  28297.00  12510.79  26601.87  10540.98  42452.07   1731.13      1.00\n",
            "      init_s[40]  53586.01  12783.92  53300.43  27803.77  67449.69     87.87      1.02\n",
            "      init_s[41]  38015.36  17317.26  34502.63  12294.10  61202.73     44.20      1.05\n",
            "      init_s[42]  39917.33  15173.26  38349.37  20979.16  55432.50    265.05      1.01\n",
            "      init_s[43]  40805.23  20018.57  37213.64  19823.91  57702.28    783.65      1.00\n",
            "      init_s[44]   6648.32  11988.41   5789.86  -9774.37  22782.87   2756.68      1.00\n",
            "      init_s[45] 875890.25 113312.23 872816.62 704045.69 1077130.12   1002.70      1.00\n",
            "      init_s[46]  41981.04  10531.85  41055.91  28991.51  60951.52     91.28      1.03\n",
            "      init_s[47]  88462.55  10792.08  88233.96  73158.41 103342.90   2225.10      1.00\n",
            "      init_s[48]  16633.84  13125.48  15595.28   -345.02  30282.27    199.85      1.02\n",
            "      init_s[49]   5995.90  16437.68   3784.72 -10531.78  21120.82    477.43      1.00\n",
            "      init_s[50]  40099.06  25586.00  34520.04  16086.05  56377.85    476.13      1.00\n",
            "      init_s[51]  35237.05  10879.00  34200.61  16947.95  47335.57    397.38      1.02\n",
            "      init_s[52]  50409.12  10030.36  50345.66  35918.25  65258.42   2418.08      1.00\n",
            "      init_s[53]  44864.64  10151.18  45551.66  30468.23  59368.05   1225.54      1.00\n",
            "      init_s[54]  49231.01  10028.94  48382.59  35753.17  63926.09   1811.15      1.00\n",
            "      init_s[55]  53729.89   9176.00  53833.96  40341.76  67446.33   3814.05      1.00\n",
            "      init_s[56]  25164.50  10210.97  25401.23  10860.02  39073.70   1147.27      1.00\n",
            "      init_s[57]  37306.81   9652.58  36857.05  22686.13  50603.87   1912.35      1.00\n",
            "      init_s[58]  36929.86   9904.71  36916.63  23348.60  51462.52   2418.10      1.00\n",
            "      init_s[59]  96224.59  11052.56  96419.56  79754.45 112349.51    851.01      1.01\n",
            "        level_sm      0.06      0.01      0.06      0.05      0.07   1319.70      1.00\n",
            "              nu      2.24      0.22      2.18      2.00      2.52   3103.00      1.00\n",
            "    offset_sigma   2450.63   1581.03   2143.31      1.54   4759.66   2468.65      1.00\n",
            "      pow_season      0.00      0.00      0.00      0.00      0.00   3670.02      1.00\n",
            "  pow_trend_beta      0.38      0.06      0.38      0.29      0.48    140.88      1.02\n",
            "            powx      0.09      0.08      0.07      0.00      0.20   2435.40      1.00\n",
            "            s_sm      0.98      0.02      0.99      0.96      1.00   1248.97      1.00\n",
            "           sigma   1404.05   1140.65   1202.35      0.07   2996.16   3917.44      1.00\n",
            "\n",
            "Number of divergences: 123\n",
            "CPU times: user 21min 44s, sys: 1.03 s, total: 21min 45s\n",
            "Wall time: 12min 20s\n"
          ]
        }
      ]
    },
    {
      "cell_type": "markdown",
      "source": [
        "#### Predict Retail Sales with model"
      ],
      "metadata": {
        "id": "tW4M6sYIQ6fj"
      }
    },
    {
      "cell_type": "code",
      "source": [
        "predictive = Predictive(sgt, samples, return_sites=[\"y_forecast\"])\n",
        "forecast_marginal = predictive(random.PRNGKey(1), y_train, seasonality=60, future=24)[\n",
        "    \"y_forecast\"\n",
        "]"
      ],
      "metadata": {
        "id": "XWWTKdVNMxiI"
      },
      "execution_count": 35,
      "outputs": []
    },
    {
      "cell_type": "markdown",
      "source": [
        "### 2.7. Validate Forecast Model Using NumPyro"
      ],
      "metadata": {
        "id": "1VbmNrsNjF9j"
      }
    },
    {
      "cell_type": "code",
      "source": [
        "y_pred = jnp.mean(forecast_marginal, axis=0)\n",
        "y_pred"
      ],
      "metadata": {
        "colab": {
          "base_uri": "https://localhost:8080/"
        },
        "id": "qHqQm9jCnJyk",
        "outputId": "6bb5ec90-427e-42cd-cf3d-0ca649f1716b"
      },
      "execution_count": 41,
      "outputs": [
        {
          "output_type": "execute_result",
          "data": {
            "text/plain": [
              "DeviceArray([432648.22, 450141.03, 492334.6 , 471545.7 , 497817.62,\n",
              "             480987.53, 476760.3 , 499753.97, 467696.94, 482233.44,\n",
              "             494952.22, 546892.6 , 461033.72, 460759.34, 510162.  ,\n",
              "             497517.16, 527354.6 , 506190.38, 514950.34, 528746.75,\n",
              "             491016.44, 512842.75, 521375.53, 575445.  ], dtype=float32)"
            ]
          },
          "metadata": {},
          "execution_count": 41
        }
      ]
    },
    {
      "cell_type": "markdown",
      "source": [
        "Calculate both smape and rmse."
      ],
      "metadata": {
        "id": "2v1Ms6xSEG-Q"
      }
    },
    {
      "cell_type": "code",
      "source": [
        "sMAPE = jnp.mean(jnp.abs(y_pred - y_test) / (y_pred + y_test)) * 200\n",
        "msqrt = jnp.sqrt(jnp.mean((y_pred - y_test) ** 2))\n",
        "print(\"sMAPE: {:.2f}, rmse: {:.2f}\".format(sMAPE, msqrt))"
      ],
      "metadata": {
        "colab": {
          "base_uri": "https://localhost:8080/"
        },
        "id": "WRuddK23ECN9",
        "outputId": "677e1d0f-019d-4255-b789-7d1543629681"
      },
      "execution_count": 43,
      "outputs": [
        {
          "output_type": "stream",
          "name": "stdout",
          "text": [
            "sMAPE: 1.91, rmse: 12167.64\n"
          ]
        }
      ]
    },
    {
      "cell_type": "markdown",
      "source": [
        "Finally, plot both actual retail sales and forecasted retail sales."
      ],
      "metadata": {
        "id": "HRR6lQZVETpP"
      }
    },
    {
      "cell_type": "code",
      "source": [
        "plt.figure(figsize=(20, 5))\n",
        "plt.plot(retail_sales[\"month\"], retail_sales_data)\n",
        "t_future = retail_sales[\"month\"][144:]\n",
        "hpd_low, hpd_high = hpdi(forecast_marginal)\n",
        "plt.plot(t_future, y_pred, lw=2)\n",
        "plt.fill_between(t_future, hpd_low, hpd_high, alpha=0.3)\n",
        "plt.title(\"Forecasting retail sales with SGT model (90% HPDI)\")\n",
        "plt.show()"
      ],
      "metadata": {
        "colab": {
          "base_uri": "https://localhost:8080/",
          "height": 336
        },
        "id": "-Uwb71hb-2xT",
        "outputId": "d922e8a2-3929-41b4-ba40-bd7753d4d65a"
      },
      "execution_count": 45,
      "outputs": [
        {
          "output_type": "display_data",
          "data": {
            "text/plain": [
              "<Figure size 1440x360 with 1 Axes>"
            ],
            "image/png": "[encoded data removed]"
          },
          "metadata": {
            "needs_background": "light"
          }
        }
      ]
    },
    {
      "cell_type": "markdown",
      "source": [
        "### 2.8. Validate Forecast Model"
      ],
      "metadata": {
        "id": "QQXhoBqWHGYw"
      }
    },
    {
      "cell_type": "code",
      "source": [
        "y_pred_df = pd.DataFrame(y_pred, columns = ['prediction']).astype(int)\n",
        "y_pred_df['numrow'] = range(1, len(y_pred_df) + 1)\n",
        "retail_sales_test['numrow'] = range(1, len(retail_sales_test) + 1)\n",
        "retail_sales_validate = retail_sales_test.merge(y_pred_df, on='numrow', how='left')\n",
        "retail_sales_validate = retail_sales_validate.drop('numrow', 1)\n",
        "retail_sales_validate.head(5)"
      ],
      "metadata": {
        "colab": {
          "base_uri": "https://localhost:8080/",
          "height": 345
        },
        "id": "FcgPDWSBHNTM",
        "outputId": "af7e99aa-a7db-4895-e12b-e3d52320620f"
      },
      "execution_count": 62,
      "outputs": [
        {
          "output_type": "stream",
          "name": "stderr",
          "text": [
            "/usr/local/lib/python3.7/dist-packages/ipykernel_launcher.py:3: SettingWithCopyWarning: \n",
            "A value is trying to be set on a copy of a slice from a DataFrame.\n",
            "Try using .loc[row_indexer,col_indexer] = value instead\n",
            "\n",
            "See the caveats in the documentation: https://pandas.pydata.org/pandas-docs/stable/user_guide/indexing.html#returning-a-view-versus-a-copy\n",
            "  This is separate from the ipykernel package so we can avoid doing imports until\n",
            "/usr/local/lib/python3.7/dist-packages/ipykernel_launcher.py:5: FutureWarning: In a future version of pandas all arguments of DataFrame.drop except for the argument 'labels' will be keyword-only\n",
            "  \"\"\"\n"
          ]
        },
        {
          "output_type": "execute_result",
          "data": {
            "text/plain": [
              "       month  sales_total  prediction\n",
              "0 2017-01-01       421943      432648\n",
              "1 2017-02-01       418315      450141\n",
              "2 2017-03-01       483082      492334\n",
              "3 2017-04-01       465788      471545\n",
              "4 2017-05-01       494621      497817"
            ],
            "text/html": [
              "\n",
              "  <div id=\"df-8d85cef4-bdda-45cf-b9fa-b0d85ee3640f\">\n",
              "    <div class=\"colab-df-container\">\n",
              "      <div>\n",
              "<style scoped>\n",
              "    .dataframe tbody tr th:only-of-type {\n",
              "        vertical-align: middle;\n",
              "    }\n",
              "\n",
              "    .dataframe tbody tr th {\n",
              "        vertical-align: top;\n",
              "    }\n",
              "\n",
              "    .dataframe thead th {\n",
              "        text-align: right;\n",
              "    }\n",
              "</style>\n",
              "<table border=\"1\" class=\"dataframe\">\n",
              "  <thead>\n",
              "    <tr style=\"text-align: right;\">\n",
              "      <th></th>\n",
              "      <th>month</th>\n",
              "      <th>sales_total</th>\n",
              "      <th>prediction</th>\n",
              "    </tr>\n",
              "  </thead>\n",
              "  <tbody>\n",
              "    <tr>\n",
              "      <th>0</th>\n",
              "      <td>2017-01-01</td>\n",
              "      <td>421943</td>\n",
              "      <td>432648</td>\n",
              "    </tr>\n",
              "    <tr>\n",
              "      <th>1</th>\n",
              "      <td>2017-02-01</td>\n",
              "      <td>418315</td>\n",
              "      <td>450141</td>\n",
              "    </tr>\n",
              "    <tr>\n",
              "      <th>2</th>\n",
              "      <td>2017-03-01</td>\n",
              "      <td>483082</td>\n",
              "      <td>492334</td>\n",
              "    </tr>\n",
              "    <tr>\n",
              "      <th>3</th>\n",
              "      <td>2017-04-01</td>\n",
              "      <td>465788</td>\n",
              "      <td>471545</td>\n",
              "    </tr>\n",
              "    <tr>\n",
              "      <th>4</th>\n",
              "      <td>2017-05-01</td>\n",
              "      <td>494621</td>\n",
              "      <td>497817</td>\n",
              "    </tr>\n",
              "  </tbody>\n",
              "</table>\n",
              "</div>\n",
              "      <button class=\"colab-df-convert\" onclick=\"convertToInteractive('df-8d85cef4-bdda-45cf-b9fa-b0d85ee3640f')\"\n",
              "              title=\"Convert this dataframe to an interactive table.\"\n",
              "              style=\"display:none;\">\n",
              "        \n",
              "  <svg xmlns=\"http://www.w3.org/2000/svg\" height=\"24px\"viewBox=\"0 0 24 24\"\n",
              "       width=\"24px\">\n",
              "    <path d=\"M0 0h24v24H0V0z\" fill=\"none\"/>\n",
              "    <path d=\"M18.56 5.44l.94 2.06.94-2.06 2.06-.94-2.06-.94-.94-2.06-.94 2.06-2.06.94zm-11 1L8.5 8.5l.94-2.06 2.06-.94-2.06-.94L8.5 2.5l-.94 2.06-2.06.94zm10 10l.94 2.06.94-2.06 2.06-.94-2.06-.94-.94-2.06-.94 2.06-2.06.94z\"/><path d=\"M17.41 7.96l-1.37-1.37c-.4-.4-.92-.59-1.43-.59-.52 0-1.04.2-1.43.59L10.3 9.45l-7.72 7.72c-.78.78-.78 2.05 0 2.83L4 21.41c.39.39.9.59 1.41.59.51 0 1.02-.2 1.41-.59l7.78-7.78 2.81-2.81c.8-.78.8-2.07 0-2.86zM5.41 20L4 18.59l7.72-7.72 1.47 1.35L5.41 20z\"/>\n",
              "  </svg>\n",
              "      </button>\n",
              "      \n",
              "  <style>\n",
              "    .colab-df-container {\n",
              "      display:flex;\n",
              "      flex-wrap:wrap;\n",
              "      gap: 12px;\n",
              "    }\n",
              "\n",
              "    .colab-df-convert {\n",
              "      background-color: #E8F0FE;\n",
              "      border: none;\n",
              "      border-radius: 50%;\n",
              "      cursor: pointer;\n",
              "      display: none;\n",
              "      fill: #1967D2;\n",
              "      height: 32px;\n",
              "      padding: 0 0 0 0;\n",
              "      width: 32px;\n",
              "    }\n",
              "\n",
              "    .colab-df-convert:hover {\n",
              "      background-color: #E2EBFA;\n",
              "      box-shadow: 0px 1px 2px rgba(60, 64, 67, 0.3), 0px 1px 3px 1px rgba(60, 64, 67, 0.15);\n",
              "      fill: #174EA6;\n",
              "    }\n",
              "\n",
              "    [theme=dark] .colab-df-convert {\n",
              "      background-color: #3B4455;\n",
              "      fill: #D2E3FC;\n",
              "    }\n",
              "\n",
              "    [theme=dark] .colab-df-convert:hover {\n",
              "      background-color: #434B5C;\n",
              "      box-shadow: 0px 1px 3px 1px rgba(0, 0, 0, 0.15);\n",
              "      filter: drop-shadow(0px 1px 2px rgba(0, 0, 0, 0.3));\n",
              "      fill: #FFFFFF;\n",
              "    }\n",
              "  </style>\n",
              "\n",
              "      <script>\n",
              "        const buttonEl =\n",
              "          document.querySelector('#df-8d85cef4-bdda-45cf-b9fa-b0d85ee3640f button.colab-df-convert');\n",
              "        buttonEl.style.display =\n",
              "          google.colab.kernel.accessAllowed ? 'block' : 'none';\n",
              "\n",
              "        async function convertToInteractive(key) {\n",
              "          const element = document.querySelector('#df-8d85cef4-bdda-45cf-b9fa-b0d85ee3640f');\n",
              "          const dataTable =\n",
              "            await google.colab.kernel.invokeFunction('convertToInteractive',\n",
              "                                                     [key], {});\n",
              "          if (!dataTable) return;\n",
              "\n",
              "          const docLinkHtml = 'Like what you see? Visit the ' +\n",
              "            '<a target=\"_blank\" href=https://colab.research.google.com/notebooks/data_table.ipynb>data table notebook</a>'\n",
              "            + ' to learn more about interactive tables.';\n",
              "          element.innerHTML = '';\n",
              "          dataTable['output_type'] = 'display_data';\n",
              "          await google.colab.output.renderOutput(dataTable, element);\n",
              "          const docLink = document.createElement('div');\n",
              "          docLink.innerHTML = docLinkHtml;\n",
              "          element.appendChild(docLink);\n",
              "        }\n",
              "      </script>\n",
              "    </div>\n",
              "  </div>\n",
              "  "
            ]
          },
          "metadata": {},
          "execution_count": 62
        }
      ]
    },
    {
      "cell_type": "code",
      "source": [
        "retail_sales_validate['AE'] = (retail_sales_validate['sales_total'] - retail_sales_validate['prediction']).abs()\n",
        "retail_sales_validate['APE'] = (retail_sales_validate['sales_total'] - retail_sales_validate['prediction']).abs()/retail_sales_validate['sales_total']\n",
        "retail_sales_validate.loc['MAPE'] = pd.Series(retail_sales_validate['APE'].mean(), index = ['APE'])\n",
        "retail_sales_validate.loc['Min APE'] = pd.Series(retail_sales_validate['APE'].min(), index = ['APE'])\n",
        "retail_sales_validate.loc['Max APE'] = pd.Series(retail_sales_validate['APE'].max(), index = ['APE'])\n",
        "retail_sales_validate.tail(3)"
      ],
      "metadata": {
        "colab": {
          "base_uri": "https://localhost:8080/",
          "height": 143
        },
        "id": "oeSNZMmSIRpL",
        "outputId": "3432ccb3-3283-456d-fb34-bcf4d822cb6d"
      },
      "execution_count": 64,
      "outputs": [
        {
          "output_type": "execute_result",
          "data": {
            "text/plain": [
              "        month  sales_total  prediction  AE       APE\n",
              "MAPE      NaT          NaN         NaN NaN  0.019438\n",
              "Min APE   NaT          NaN         NaN NaN  0.001206\n",
              "Max APE   NaT          NaN         NaN NaN  0.076081"
            ],
            "text/html": [
              "\n",
              "  <div id=\"df-ae761773-981c-4fdf-8d4b-fb4996888739\">\n",
              "    <div class=\"colab-df-container\">\n",
              "      <div>\n",
              "<style scoped>\n",
              "    .dataframe tbody tr th:only-of-type {\n",
              "        vertical-align: middle;\n",
              "    }\n",
              "\n",
              "    .dataframe tbody tr th {\n",
              "        vertical-align: top;\n",
              "    }\n",
              "\n",
              "    .dataframe thead th {\n",
              "        text-align: right;\n",
              "    }\n",
              "</style>\n",
              "<table border=\"1\" class=\"dataframe\">\n",
              "  <thead>\n",
              "    <tr style=\"text-align: right;\">\n",
              "      <th></th>\n",
              "      <th>month</th>\n",
              "      <th>sales_total</th>\n",
              "      <th>prediction</th>\n",
              "      <th>AE</th>\n",
              "      <th>APE</th>\n",
              "    </tr>\n",
              "  </thead>\n",
              "  <tbody>\n",
              "    <tr>\n",
              "      <th>MAPE</th>\n",
              "      <td>NaT</td>\n",
              "      <td>NaN</td>\n",
              "      <td>NaN</td>\n",
              "      <td>NaN</td>\n",
              "      <td>0.019438</td>\n",
              "    </tr>\n",
              "    <tr>\n",
              "      <th>Min APE</th>\n",
              "      <td>NaT</td>\n",
              "      <td>NaN</td>\n",
              "      <td>NaN</td>\n",
              "      <td>NaN</td>\n",
              "      <td>0.001206</td>\n",
              "    </tr>\n",
              "    <tr>\n",
              "      <th>Max APE</th>\n",
              "      <td>NaT</td>\n",
              "      <td>NaN</td>\n",
              "      <td>NaN</td>\n",
              "      <td>NaN</td>\n",
              "      <td>0.076081</td>\n",
              "    </tr>\n",
              "  </tbody>\n",
              "</table>\n",
              "</div>\n",
              "      <button class=\"colab-df-convert\" onclick=\"convertToInteractive('df-ae761773-981c-4fdf-8d4b-fb4996888739')\"\n",
              "              title=\"Convert this dataframe to an interactive table.\"\n",
              "              style=\"display:none;\">\n",
              "        \n",
              "  <svg xmlns=\"http://www.w3.org/2000/svg\" height=\"24px\"viewBox=\"0 0 24 24\"\n",
              "       width=\"24px\">\n",
              "    <path d=\"M0 0h24v24H0V0z\" fill=\"none\"/>\n",
              "    <path d=\"M18.56 5.44l.94 2.06.94-2.06 2.06-.94-2.06-.94-.94-2.06-.94 2.06-2.06.94zm-11 1L8.5 8.5l.94-2.06 2.06-.94-2.06-.94L8.5 2.5l-.94 2.06-2.06.94zm10 10l.94 2.06.94-2.06 2.06-.94-2.06-.94-.94-2.06-.94 2.06-2.06.94z\"/><path d=\"M17.41 7.96l-1.37-1.37c-.4-.4-.92-.59-1.43-.59-.52 0-1.04.2-1.43.59L10.3 9.45l-7.72 7.72c-.78.78-.78 2.05 0 2.83L4 21.41c.39.39.9.59 1.41.59.51 0 1.02-.2 1.41-.59l7.78-7.78 2.81-2.81c.8-.78.8-2.07 0-2.86zM5.41 20L4 18.59l7.72-7.72 1.47 1.35L5.41 20z\"/>\n",
              "  </svg>\n",
              "      </button>\n",
              "      \n",
              "  <style>\n",
              "    .colab-df-container {\n",
              "      display:flex;\n",
              "      flex-wrap:wrap;\n",
              "      gap: 12px;\n",
              "    }\n",
              "\n",
              "    .colab-df-convert {\n",
              "      background-color: #E8F0FE;\n",
              "      border: none;\n",
              "      border-radius: 50%;\n",
              "      cursor: pointer;\n",
              "      display: none;\n",
              "      fill: #1967D2;\n",
              "      height: 32px;\n",
              "      padding: 0 0 0 0;\n",
              "      width: 32px;\n",
              "    }\n",
              "\n",
              "    .colab-df-convert:hover {\n",
              "      background-color: #E2EBFA;\n",
              "      box-shadow: 0px 1px 2px rgba(60, 64, 67, 0.3), 0px 1px 3px 1px rgba(60, 64, 67, 0.15);\n",
              "      fill: #174EA6;\n",
              "    }\n",
              "\n",
              "    [theme=dark] .colab-df-convert {\n",
              "      background-color: #3B4455;\n",
              "      fill: #D2E3FC;\n",
              "    }\n",
              "\n",
              "    [theme=dark] .colab-df-convert:hover {\n",
              "      background-color: #434B5C;\n",
              "      box-shadow: 0px 1px 3px 1px rgba(0, 0, 0, 0.15);\n",
              "      filter: drop-shadow(0px 1px 2px rgba(0, 0, 0, 0.3));\n",
              "      fill: #FFFFFF;\n",
              "    }\n",
              "  </style>\n",
              "\n",
              "      <script>\n",
              "        const buttonEl =\n",
              "          document.querySelector('#df-ae761773-981c-4fdf-8d4b-fb4996888739 button.colab-df-convert');\n",
              "        buttonEl.style.display =\n",
              "          google.colab.kernel.accessAllowed ? 'block' : 'none';\n",
              "\n",
              "        async function convertToInteractive(key) {\n",
              "          const element = document.querySelector('#df-ae761773-981c-4fdf-8d4b-fb4996888739');\n",
              "          const dataTable =\n",
              "            await google.colab.kernel.invokeFunction('convertToInteractive',\n",
              "                                                     [key], {});\n",
              "          if (!dataTable) return;\n",
              "\n",
              "          const docLinkHtml = 'Like what you see? Visit the ' +\n",
              "            '<a target=\"_blank\" href=https://colab.research.google.com/notebooks/data_table.ipynb>data table notebook</a>'\n",
              "            + ' to learn more about interactive tables.';\n",
              "          element.innerHTML = '';\n",
              "          dataTable['output_type'] = 'display_data';\n",
              "          await google.colab.output.renderOutput(dataTable, element);\n",
              "          const docLink = document.createElement('div');\n",
              "          docLink.innerHTML = docLinkHtml;\n",
              "          element.appendChild(docLink);\n",
              "        }\n",
              "      </script>\n",
              "    </div>\n",
              "  </div>\n",
              "  "
            ]
          },
          "metadata": {},
          "execution_count": 64
        }
      ]
    }
  ]
}