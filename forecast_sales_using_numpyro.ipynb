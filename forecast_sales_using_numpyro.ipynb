{
  "nbformat": 4,
  "nbformat_minor": 0,
  "metadata": {
    "colab": {
      "name": "forecast_sales_using_numpyro.ipynb",
      "provenance": [],
      "collapsed_sections": [],
      "authorship_tag": "ABX9TyMQmYl6NViCFMxln1aBON8C",
      "include_colab_link": true
    },
    "kernelspec": {
      "name": "python3",
      "display_name": "Python 3"
    },
    "language_info": {
      "name": "python"
    },
    "accelerator": "TPU",
    "widgets": {
      "application/vnd.jupyter.widget-state+json": {
        "6af182b14f02471f93848e403b2aa1cb": {
          "model_module": "@jupyter-widgets/controls",
          "model_name": "HBoxModel",
          "model_module_version": "1.5.0",
          "state": {
            "_dom_classes": [],
            "_model_module": "@jupyter-widgets/controls",
            "_model_module_version": "1.5.0",
            "_model_name": "HBoxModel",
            "_view_count": null,
            "_view_module": "@jupyter-widgets/controls",
            "_view_module_version": "1.5.0",
            "_view_name": "HBoxView",
            "box_style": "",
            "children": [
              "IPY_MODEL_57dfb474d273448a80d322f95b178e82",
              "IPY_MODEL_291726ef9a5147ffb5debc6efcb30c6e",
              "IPY_MODEL_0e1f3da5cb71437d850615bada3e18b2"
            ],
            "layout": "IPY_MODEL_a03e50b051fe49ca9161a2803c1569b9"
          }
        },
        "57dfb474d273448a80d322f95b178e82": {
          "model_module": "@jupyter-widgets/controls",
          "model_name": "HTMLModel",
          "model_module_version": "1.5.0",
          "state": {
            "_dom_classes": [],
            "_model_module": "@jupyter-widgets/controls",
            "_model_module_version": "1.5.0",
            "_model_name": "HTMLModel",
            "_view_count": null,
            "_view_module": "@jupyter-widgets/controls",
            "_view_module_version": "1.5.0",
            "_view_name": "HTMLView",
            "description": "",
            "description_tooltip": null,
            "layout": "IPY_MODEL_27bb4f5eff4e4e33b37cba0bb9044ff6",
            "placeholder": "​",
            "style": "IPY_MODEL_163f3d8f883744cea483360527715aac",
            "value": "Running chain 0: 100%"
          }
        },
        "291726ef9a5147ffb5debc6efcb30c6e": {
          "model_module": "@jupyter-widgets/controls",
          "model_name": "FloatProgressModel",
          "model_module_version": "1.5.0",
          "state": {
            "_dom_classes": [],
            "_model_module": "@jupyter-widgets/controls",
            "_model_module_version": "1.5.0",
            "_model_name": "FloatProgressModel",
            "_view_count": null,
            "_view_module": "@jupyter-widgets/controls",
            "_view_module_version": "1.5.0",
            "_view_name": "ProgressView",
            "bar_style": "success",
            "description": "",
            "description_tooltip": null,
            "layout": "IPY_MODEL_41299066161b46df91856109c7d443c9",
            "max": 10000,
            "min": 0,
            "orientation": "horizontal",
            "style": "IPY_MODEL_236f04d8adf044b3ae52807d9fc4190f",
            "value": 10000
          }
        },
        "0e1f3da5cb71437d850615bada3e18b2": {
          "model_module": "@jupyter-widgets/controls",
          "model_name": "HTMLModel",
          "model_module_version": "1.5.0",
          "state": {
            "_dom_classes": [],
            "_model_module": "@jupyter-widgets/controls",
            "_model_module_version": "1.5.0",
            "_model_name": "HTMLModel",
            "_view_count": null,
            "_view_module": "@jupyter-widgets/controls",
            "_view_module_version": "1.5.0",
            "_view_name": "HTMLView",
            "description": "",
            "description_tooltip": null,
            "layout": "IPY_MODEL_88a84e0d08694d2baf744dbeb0ec507e",
            "placeholder": "​",
            "style": "IPY_MODEL_11a546d1c52944ddbee7a4865ce1db16",
            "value": " 10000/10000 [02:30&lt;00:00, 94.66it/s]"
          }
        },
        "a03e50b051fe49ca9161a2803c1569b9": {
          "model_module": "@jupyter-widgets/base",
          "model_name": "LayoutModel",
          "model_module_version": "1.2.0",
          "state": {
            "_model_module": "@jupyter-widgets/base",
            "_model_module_version": "1.2.0",
            "_model_name": "LayoutModel",
            "_view_count": null,
            "_view_module": "@jupyter-widgets/base",
            "_view_module_version": "1.2.0",
            "_view_name": "LayoutView",
            "align_content": null,
            "align_items": null,
            "align_self": null,
            "border": null,
            "bottom": null,
            "display": null,
            "flex": null,
            "flex_flow": null,
            "grid_area": null,
            "grid_auto_columns": null,
            "grid_auto_flow": null,
            "grid_auto_rows": null,
            "grid_column": null,
            "grid_gap": null,
            "grid_row": null,
            "grid_template_areas": null,
            "grid_template_columns": null,
            "grid_template_rows": null,
            "height": null,
            "justify_content": null,
            "justify_items": null,
            "left": null,
            "margin": null,
            "max_height": null,
            "max_width": null,
            "min_height": null,
            "min_width": null,
            "object_fit": null,
            "object_position": null,
            "order": null,
            "overflow": null,
            "overflow_x": null,
            "overflow_y": null,
            "padding": null,
            "right": null,
            "top": null,
            "visibility": null,
            "width": null
          }
        },
        "27bb4f5eff4e4e33b37cba0bb9044ff6": {
          "model_module": "@jupyter-widgets/base",
          "model_name": "LayoutModel",
          "model_module_version": "1.2.0",
          "state": {
            "_model_module": "@jupyter-widgets/base",
            "_model_module_version": "1.2.0",
            "_model_name": "LayoutModel",
            "_view_count": null,
            "_view_module": "@jupyter-widgets/base",
            "_view_module_version": "1.2.0",
            "_view_name": "LayoutView",
            "align_content": null,
            "align_items": null,
            "align_self": null,
            "border": null,
            "bottom": null,
            "display": null,
            "flex": null,
            "flex_flow": null,
            "grid_area": null,
            "grid_auto_columns": null,
            "grid_auto_flow": null,
            "grid_auto_rows": null,
            "grid_column": null,
            "grid_gap": null,
            "grid_row": null,
            "grid_template_areas": null,
            "grid_template_columns": null,
            "grid_template_rows": null,
            "height": null,
            "justify_content": null,
            "justify_items": null,
            "left": null,
            "margin": null,
            "max_height": null,
            "max_width": null,
            "min_height": null,
            "min_width": null,
            "object_fit": null,
            "object_position": null,
            "order": null,
            "overflow": null,
            "overflow_x": null,
            "overflow_y": null,
            "padding": null,
            "right": null,
            "top": null,
            "visibility": null,
            "width": null
          }
        },
        "163f3d8f883744cea483360527715aac": {
          "model_module": "@jupyter-widgets/controls",
          "model_name": "DescriptionStyleModel",
          "model_module_version": "1.5.0",
          "state": {
            "_model_module": "@jupyter-widgets/controls",
            "_model_module_version": "1.5.0",
            "_model_name": "DescriptionStyleModel",
            "_view_count": null,
            "_view_module": "@jupyter-widgets/base",
            "_view_module_version": "1.2.0",
            "_view_name": "StyleView",
            "description_width": ""
          }
        },
        "41299066161b46df91856109c7d443c9": {
          "model_module": "@jupyter-widgets/base",
          "model_name": "LayoutModel",
          "model_module_version": "1.2.0",
          "state": {
            "_model_module": "@jupyter-widgets/base",
            "_model_module_version": "1.2.0",
            "_model_name": "LayoutModel",
            "_view_count": null,
            "_view_module": "@jupyter-widgets/base",
            "_view_module_version": "1.2.0",
            "_view_name": "LayoutView",
            "align_content": null,
            "align_items": null,
            "align_self": null,
            "border": null,
            "bottom": null,
            "display": null,
            "flex": null,
            "flex_flow": null,
            "grid_area": null,
            "grid_auto_columns": null,
            "grid_auto_flow": null,
            "grid_auto_rows": null,
            "grid_column": null,
            "grid_gap": null,
            "grid_row": null,
            "grid_template_areas": null,
            "grid_template_columns": null,
            "grid_template_rows": null,
            "height": null,
            "justify_content": null,
            "justify_items": null,
            "left": null,
            "margin": null,
            "max_height": null,
            "max_width": null,
            "min_height": null,
            "min_width": null,
            "object_fit": null,
            "object_position": null,
            "order": null,
            "overflow": null,
            "overflow_x": null,
            "overflow_y": null,
            "padding": null,
            "right": null,
            "top": null,
            "visibility": null,
            "width": null
          }
        },
        "236f04d8adf044b3ae52807d9fc4190f": {
          "model_module": "@jupyter-widgets/controls",
          "model_name": "ProgressStyleModel",
          "model_module_version": "1.5.0",
          "state": {
            "_model_module": "@jupyter-widgets/controls",
            "_model_module_version": "1.5.0",
            "_model_name": "ProgressStyleModel",
            "_view_count": null,
            "_view_module": "@jupyter-widgets/base",
            "_view_module_version": "1.2.0",
            "_view_name": "StyleView",
            "bar_color": null,
            "description_width": ""
          }
        },
        "88a84e0d08694d2baf744dbeb0ec507e": {
          "model_module": "@jupyter-widgets/base",
          "model_name": "LayoutModel",
          "model_module_version": "1.2.0",
          "state": {
            "_model_module": "@jupyter-widgets/base",
            "_model_module_version": "1.2.0",
            "_model_name": "LayoutModel",
            "_view_count": null,
            "_view_module": "@jupyter-widgets/base",
            "_view_module_version": "1.2.0",
            "_view_name": "LayoutView",
            "align_content": null,
            "align_items": null,
            "align_self": null,
            "border": null,
            "bottom": null,
            "display": null,
            "flex": null,
            "flex_flow": null,
            "grid_area": null,
            "grid_auto_columns": null,
            "grid_auto_flow": null,
            "grid_auto_rows": null,
            "grid_column": null,
            "grid_gap": null,
            "grid_row": null,
            "grid_template_areas": null,
            "grid_template_columns": null,
            "grid_template_rows": null,
            "height": null,
            "justify_content": null,
            "justify_items": null,
            "left": null,
            "margin": null,
            "max_height": null,
            "max_width": null,
            "min_height": null,
            "min_width": null,
            "object_fit": null,
            "object_position": null,
            "order": null,
            "overflow": null,
            "overflow_x": null,
            "overflow_y": null,
            "padding": null,
            "right": null,
            "top": null,
            "visibility": null,
            "width": null
          }
        },
        "11a546d1c52944ddbee7a4865ce1db16": {
          "model_module": "@jupyter-widgets/controls",
          "model_name": "DescriptionStyleModel",
          "model_module_version": "1.5.0",
          "state": {
            "_model_module": "@jupyter-widgets/controls",
            "_model_module_version": "1.5.0",
            "_model_name": "DescriptionStyleModel",
            "_view_count": null,
            "_view_module": "@jupyter-widgets/base",
            "_view_module_version": "1.2.0",
            "_view_name": "StyleView",
            "description_width": ""
          }
        },
        "8088998a763f4117b15824db0f672fad": {
          "model_module": "@jupyter-widgets/controls",
          "model_name": "HBoxModel",
          "model_module_version": "1.5.0",
          "state": {
            "_dom_classes": [],
            "_model_module": "@jupyter-widgets/controls",
            "_model_module_version": "1.5.0",
            "_model_name": "HBoxModel",
            "_view_count": null,
            "_view_module": "@jupyter-widgets/controls",
            "_view_module_version": "1.5.0",
            "_view_name": "HBoxView",
            "box_style": "",
            "children": [
              "IPY_MODEL_62b4285a1136417e85b4aa2319865ec2",
              "IPY_MODEL_d0e118e7c61145ea8452d5b381d65736",
              "IPY_MODEL_3d8241879ad8442db72b7eb64f51a28e"
            ],
            "layout": "IPY_MODEL_2068530bf97f4c79ae9df8a5e5c4cb5a"
          }
        },
        "62b4285a1136417e85b4aa2319865ec2": {
          "model_module": "@jupyter-widgets/controls",
          "model_name": "HTMLModel",
          "model_module_version": "1.5.0",
          "state": {
            "_dom_classes": [],
            "_model_module": "@jupyter-widgets/controls",
            "_model_module_version": "1.5.0",
            "_model_name": "HTMLModel",
            "_view_count": null,
            "_view_module": "@jupyter-widgets/controls",
            "_view_module_version": "1.5.0",
            "_view_name": "HTMLView",
            "description": "",
            "description_tooltip": null,
            "layout": "IPY_MODEL_57705cab34864e30acc3c8d8e0b4d52a",
            "placeholder": "​",
            "style": "IPY_MODEL_0c734e46caf34a0a85e50fd9d685aaf6",
            "value": "Running chain 1: 100%"
          }
        },
        "d0e118e7c61145ea8452d5b381d65736": {
          "model_module": "@jupyter-widgets/controls",
          "model_name": "FloatProgressModel",
          "model_module_version": "1.5.0",
          "state": {
            "_dom_classes": [],
            "_model_module": "@jupyter-widgets/controls",
            "_model_module_version": "1.5.0",
            "_model_name": "FloatProgressModel",
            "_view_count": null,
            "_view_module": "@jupyter-widgets/controls",
            "_view_module_version": "1.5.0",
            "_view_name": "ProgressView",
            "bar_style": "success",
            "description": "",
            "description_tooltip": null,
            "layout": "IPY_MODEL_7e384e1ef8934bbebc7ac1ded750d59a",
            "max": 10000,
            "min": 0,
            "orientation": "horizontal",
            "style": "IPY_MODEL_1ba749bb8c534b19a574951bb2bff583",
            "value": 10000
          }
        },
        "3d8241879ad8442db72b7eb64f51a28e": {
          "model_module": "@jupyter-widgets/controls",
          "model_name": "HTMLModel",
          "model_module_version": "1.5.0",
          "state": {
            "_dom_classes": [],
            "_model_module": "@jupyter-widgets/controls",
            "_model_module_version": "1.5.0",
            "_model_name": "HTMLModel",
            "_view_count": null,
            "_view_module": "@jupyter-widgets/controls",
            "_view_module_version": "1.5.0",
            "_view_name": "HTMLView",
            "description": "",
            "description_tooltip": null,
            "layout": "IPY_MODEL_2bb52f7d0f9b4591a223e70c675b80b9",
            "placeholder": "​",
            "style": "IPY_MODEL_698304118c0e42408298e0a6f2f2f2c8",
            "value": " 10000/10000 [02:30&lt;00:00, 82.77it/s]"
          }
        },
        "2068530bf97f4c79ae9df8a5e5c4cb5a": {
          "model_module": "@jupyter-widgets/base",
          "model_name": "LayoutModel",
          "model_module_version": "1.2.0",
          "state": {
            "_model_module": "@jupyter-widgets/base",
            "_model_module_version": "1.2.0",
            "_model_name": "LayoutModel",
            "_view_count": null,
            "_view_module": "@jupyter-widgets/base",
            "_view_module_version": "1.2.0",
            "_view_name": "LayoutView",
            "align_content": null,
            "align_items": null,
            "align_self": null,
            "border": null,
            "bottom": null,
            "display": null,
            "flex": null,
            "flex_flow": null,
            "grid_area": null,
            "grid_auto_columns": null,
            "grid_auto_flow": null,
            "grid_auto_rows": null,
            "grid_column": null,
            "grid_gap": null,
            "grid_row": null,
            "grid_template_areas": null,
            "grid_template_columns": null,
            "grid_template_rows": null,
            "height": null,
            "justify_content": null,
            "justify_items": null,
            "left": null,
            "margin": null,
            "max_height": null,
            "max_width": null,
            "min_height": null,
            "min_width": null,
            "object_fit": null,
            "object_position": null,
            "order": null,
            "overflow": null,
            "overflow_x": null,
            "overflow_y": null,
            "padding": null,
            "right": null,
            "top": null,
            "visibility": null,
            "width": null
          }
        },
        "57705cab34864e30acc3c8d8e0b4d52a": {
          "model_module": "@jupyter-widgets/base",
          "model_name": "LayoutModel",
          "model_module_version": "1.2.0",
          "state": {
            "_model_module": "@jupyter-widgets/base",
            "_model_module_version": "1.2.0",
            "_model_name": "LayoutModel",
            "_view_count": null,
            "_view_module": "@jupyter-widgets/base",
            "_view_module_version": "1.2.0",
            "_view_name": "LayoutView",
            "align_content": null,
            "align_items": null,
            "align_self": null,
            "border": null,
            "bottom": null,
            "display": null,
            "flex": null,
            "flex_flow": null,
            "grid_area": null,
            "grid_auto_columns": null,
            "grid_auto_flow": null,
            "grid_auto_rows": null,
            "grid_column": null,
            "grid_gap": null,
            "grid_row": null,
            "grid_template_areas": null,
            "grid_template_columns": null,
            "grid_template_rows": null,
            "height": null,
            "justify_content": null,
            "justify_items": null,
            "left": null,
            "margin": null,
            "max_height": null,
            "max_width": null,
            "min_height": null,
            "min_width": null,
            "object_fit": null,
            "object_position": null,
            "order": null,
            "overflow": null,
            "overflow_x": null,
            "overflow_y": null,
            "padding": null,
            "right": null,
            "top": null,
            "visibility": null,
            "width": null
          }
        },
        "0c734e46caf34a0a85e50fd9d685aaf6": {
          "model_module": "@jupyter-widgets/controls",
          "model_name": "DescriptionStyleModel",
          "model_module_version": "1.5.0",
          "state": {
            "_model_module": "@jupyter-widgets/controls",
            "_model_module_version": "1.5.0",
            "_model_name": "DescriptionStyleModel",
            "_view_count": null,
            "_view_module": "@jupyter-widgets/base",
            "_view_module_version": "1.2.0",
            "_view_name": "StyleView",
            "description_width": ""
          }
        },
        "7e384e1ef8934bbebc7ac1ded750d59a": {
          "model_module": "@jupyter-widgets/base",
          "model_name": "LayoutModel",
          "model_module_version": "1.2.0",
          "state": {
            "_model_module": "@jupyter-widgets/base",
            "_model_module_version": "1.2.0",
            "_model_name": "LayoutModel",
            "_view_count": null,
            "_view_module": "@jupyter-widgets/base",
            "_view_module_version": "1.2.0",
            "_view_name": "LayoutView",
            "align_content": null,
            "align_items": null,
            "align_self": null,
            "border": null,
            "bottom": null,
            "display": null,
            "flex": null,
            "flex_flow": null,
            "grid_area": null,
            "grid_auto_columns": null,
            "grid_auto_flow": null,
            "grid_auto_rows": null,
            "grid_column": null,
            "grid_gap": null,
            "grid_row": null,
            "grid_template_areas": null,
            "grid_template_columns": null,
            "grid_template_rows": null,
            "height": null,
            "justify_content": null,
            "justify_items": null,
            "left": null,
            "margin": null,
            "max_height": null,
            "max_width": null,
            "min_height": null,
            "min_width": null,
            "object_fit": null,
            "object_position": null,
            "order": null,
            "overflow": null,
            "overflow_x": null,
            "overflow_y": null,
            "padding": null,
            "right": null,
            "top": null,
            "visibility": null,
            "width": null
          }
        },
        "1ba749bb8c534b19a574951bb2bff583": {
          "model_module": "@jupyter-widgets/controls",
          "model_name": "ProgressStyleModel",
          "model_module_version": "1.5.0",
          "state": {
            "_model_module": "@jupyter-widgets/controls",
            "_model_module_version": "1.5.0",
            "_model_name": "ProgressStyleModel",
            "_view_count": null,
            "_view_module": "@jupyter-widgets/base",
            "_view_module_version": "1.2.0",
            "_view_name": "StyleView",
            "bar_color": null,
            "description_width": ""
          }
        },
        "2bb52f7d0f9b4591a223e70c675b80b9": {
          "model_module": "@jupyter-widgets/base",
          "model_name": "LayoutModel",
          "model_module_version": "1.2.0",
          "state": {
            "_model_module": "@jupyter-widgets/base",
            "_model_module_version": "1.2.0",
            "_model_name": "LayoutModel",
            "_view_count": null,
            "_view_module": "@jupyter-widgets/base",
            "_view_module_version": "1.2.0",
            "_view_name": "LayoutView",
            "align_content": null,
            "align_items": null,
            "align_self": null,
            "border": null,
            "bottom": null,
            "display": null,
            "flex": null,
            "flex_flow": null,
            "grid_area": null,
            "grid_auto_columns": null,
            "grid_auto_flow": null,
            "grid_auto_rows": null,
            "grid_column": null,
            "grid_gap": null,
            "grid_row": null,
            "grid_template_areas": null,
            "grid_template_columns": null,
            "grid_template_rows": null,
            "height": null,
            "justify_content": null,
            "justify_items": null,
            "left": null,
            "margin": null,
            "max_height": null,
            "max_width": null,
            "min_height": null,
            "min_width": null,
            "object_fit": null,
            "object_position": null,
            "order": null,
            "overflow": null,
            "overflow_x": null,
            "overflow_y": null,
            "padding": null,
            "right": null,
            "top": null,
            "visibility": null,
            "width": null
          }
        },
        "698304118c0e42408298e0a6f2f2f2c8": {
          "model_module": "@jupyter-widgets/controls",
          "model_name": "DescriptionStyleModel",
          "model_module_version": "1.5.0",
          "state": {
            "_model_module": "@jupyter-widgets/controls",
            "_model_module_version": "1.5.0",
            "_model_name": "DescriptionStyleModel",
            "_view_count": null,
            "_view_module": "@jupyter-widgets/base",
            "_view_module_version": "1.2.0",
            "_view_name": "StyleView",
            "description_width": ""
          }
        }
      }
    }
  },
  "cells": [
    {
      "cell_type": "markdown",
      "metadata": {
        "id": "view-in-github",
        "colab_type": "text"
      },
      "source": [
        "<a href=\"https://colab.research.google.com/github/sungkim11/forecast-sales/blob/main/forecast_sales_using_numpyro.ipynb\" target=\"_parent\"><img src=\"https://colab.research.google.com/assets/colab-badge.svg\" alt=\"Open In Colab\"/></a>"
      ]
    },
    {
      "cell_type": "markdown",
      "source": [
        "## 1. Prequisites"
      ],
      "metadata": {
        "id": "t5mhxZKL5nEa"
      }
    },
    {
      "cell_type": "markdown",
      "source": [
        "Following are prerequisite for this tutorial:\n",
        "\n",
        "- Data\n",
        "- Python Package: NumPyro\n",
        "- Python Package: Jax\n",
        "- Python Package: Statsmodels"
      ],
      "metadata": {
        "id": "KWJWGZ0K5vbp"
      }
    },
    {
      "cell_type": "markdown",
      "source": [
        "### 1.1. Data"
      ],
      "metadata": {
        "id": "mfdzR3yw56v4"
      }
    },
    {
      "cell_type": "markdown",
      "source": [
        "Three data sources were used for this tutorial where United Stated Census Bureau Monthly Retail Sales is used to forecast future sales and both FRED Data and OECD Data were used as Regressors data."
      ],
      "metadata": {
        "id": "S5PG6l9f6AXa"
      }
    },
    {
      "cell_type": "markdown",
      "source": [
        "**United Stated Census Bureau Monthly Retail Sales**\n",
        "United Stated Census Bureau maintains Monthly Retail Trade Report, from January 1992 to Present. This data was picked to illustrate forecasting because it has extensive historical data with same monthly frequency. Data is available as Excel spreadsheet format at https://www.census.gov/retail/mrts/www/mrtssales92-present.xls"
      ],
      "metadata": {
        "id": "JHPHhRr76Cot"
      }
    },
    {
      "cell_type": "markdown",
      "source": [
        "**FRED Data: https://fred.stlouisfed.org/**\n",
        "\n",
        "- Inflation\n",
        "- CPI\n",
        "- M1\n",
        "- M2\n",
        "- Interest Rate"
      ],
      "metadata": {
        "id": "3VbAVbXl6FuQ"
      }
    },
    {
      "cell_type": "markdown",
      "source": [
        "**OECD Data: https://data.oecd.org/leadind/composite-leading-indicator-cli.htm#indicator-chart**\n",
        "\n",
        "- Composite leading indicator (CLI)\n",
        "- Business confidence index (BCI)\n",
        "- Consumer confidence index (CCI)"
      ],
      "metadata": {
        "id": "2eu-DoRo6Kmx"
      }
    },
    {
      "cell_type": "markdown",
      "source": [
        "## 1.2. Python Packages"
      ],
      "metadata": {
        "id": "N7y_R84B6Iy5"
      }
    },
    {
      "cell_type": "markdown",
      "source": [
        "#### 1.2.1. Install Python Packages"
      ],
      "metadata": {
        "id": "o0qdiHYi6Xh4"
      }
    },
    {
      "cell_type": "code",
      "source": [
        "%%writefile requirements.txt\n",
        "\n",
        "jax==0.3.8\n",
        "numpyro==0.9.2\n",
        "statsmodels==0.10.2"
      ],
      "metadata": {
        "colab": {
          "base_uri": "https://localhost:8080/"
        },
        "id": "YPbsaG63td3W",
        "outputId": "f5babb2b-9d2f-4cf1-e731-6b2c27e0c94b"
      },
      "execution_count": 74,
      "outputs": [
        {
          "output_type": "stream",
          "name": "stdout",
          "text": [
            "Overwriting requirements.txt\n"
          ]
        }
      ]
    },
    {
      "cell_type": "code",
      "source": [
        "!pip install -r requirements.txt"
      ],
      "metadata": {
        "colab": {
          "base_uri": "https://localhost:8080/"
        },
        "id": "Qmat3AXMth-k",
        "outputId": "794f731d-8775-4ffd-a22c-359d26d246ec"
      },
      "execution_count": 75,
      "outputs": [
        {
          "output_type": "stream",
          "name": "stdout",
          "text": [
            "Requirement already satisfied: jax==0.3.8 in /usr/local/lib/python3.7/dist-packages (from -r requirements.txt (line 2)) (0.3.8)\n",
            "Requirement already satisfied: numpyro==0.9.2 in /usr/local/lib/python3.7/dist-packages (from -r requirements.txt (line 3)) (0.9.2)\n",
            "Requirement already satisfied: statsmodels==0.10.2 in /usr/local/lib/python3.7/dist-packages (from -r requirements.txt (line 4)) (0.10.2)\n",
            "Requirement already satisfied: typing-extensions in /usr/local/lib/python3.7/dist-packages (from jax==0.3.8->-r requirements.txt (line 2)) (4.2.0)\n",
            "Requirement already satisfied: numpy>=1.19 in /usr/local/lib/python3.7/dist-packages (from jax==0.3.8->-r requirements.txt (line 2)) (1.21.6)\n",
            "Requirement already satisfied: opt-einsum in /usr/local/lib/python3.7/dist-packages (from jax==0.3.8->-r requirements.txt (line 2)) (3.3.0)\n",
            "Requirement already satisfied: scipy>=1.2.1 in /usr/local/lib/python3.7/dist-packages (from jax==0.3.8->-r requirements.txt (line 2)) (1.4.1)\n",
            "Requirement already satisfied: absl-py in /usr/local/lib/python3.7/dist-packages (from jax==0.3.8->-r requirements.txt (line 2)) (1.0.0)\n",
            "Requirement already satisfied: jaxlib>=0.1.65 in /usr/local/lib/python3.7/dist-packages (from numpyro==0.9.2->-r requirements.txt (line 3)) (0.3.7+cuda11.cudnn805)\n",
            "Requirement already satisfied: multipledispatch in /usr/local/lib/python3.7/dist-packages (from numpyro==0.9.2->-r requirements.txt (line 3)) (0.6.0)\n",
            "Requirement already satisfied: tqdm in /usr/local/lib/python3.7/dist-packages (from numpyro==0.9.2->-r requirements.txt (line 3)) (4.64.0)\n",
            "Requirement already satisfied: patsy>=0.4.0 in /usr/local/lib/python3.7/dist-packages (from statsmodels==0.10.2->-r requirements.txt (line 4)) (0.5.2)\n",
            "Requirement already satisfied: pandas>=0.19 in /usr/local/lib/python3.7/dist-packages (from statsmodels==0.10.2->-r requirements.txt (line 4)) (1.3.5)\n",
            "Requirement already satisfied: flatbuffers<3.0,>=1.12 in /usr/local/lib/python3.7/dist-packages (from jaxlib>=0.1.65->numpyro==0.9.2->-r requirements.txt (line 3)) (2.0)\n",
            "Requirement already satisfied: pytz>=2017.3 in /usr/local/lib/python3.7/dist-packages (from pandas>=0.19->statsmodels==0.10.2->-r requirements.txt (line 4)) (2022.1)\n",
            "Requirement already satisfied: python-dateutil>=2.7.3 in /usr/local/lib/python3.7/dist-packages (from pandas>=0.19->statsmodels==0.10.2->-r requirements.txt (line 4)) (2.8.2)\n",
            "Requirement already satisfied: six in /usr/local/lib/python3.7/dist-packages (from patsy>=0.4.0->statsmodels==0.10.2->-r requirements.txt (line 4)) (1.15.0)\n"
          ]
        }
      ]
    },
    {
      "cell_type": "markdown",
      "source": [
        "## 2. Code"
      ],
      "metadata": {
        "id": "owoLig2m6gEw"
      }
    },
    {
      "cell_type": "markdown",
      "source": [
        "### 2.1. Import Python Package"
      ],
      "metadata": {
        "id": "nkWBEOIF6ixa"
      }
    },
    {
      "cell_type": "markdown",
      "source": [
        "Import python packages and show its version. Showing version is important since it will enable other users to replicate your work using same python version and python packages version."
      ],
      "metadata": {
        "id": "9HKYgi3V6nH6"
      }
    },
    {
      "cell_type": "code",
      "source": [
        "import os\n",
        "import platform\n",
        "\n",
        "import matplotlib\n",
        "from matplotlib import pyplot as plt\n",
        "\n",
        "import pandas as pd\n",
        "from IPython.display import set_matplotlib_formats\n",
        "\n",
        "import statsmodels\n",
        "from statsmodels.tsa.seasonal import seasonal_decompose\n",
        "\n",
        "import jax\n",
        "from jax import numpy as jnp\n",
        "from jax import random\n",
        "\n",
        "import numpyro\n",
        "from numpyro import distributions as dist\n",
        "from numpyro.contrib.control_flow import scan\n",
        "from numpyro.diagnostics import autocorrelation, hpdi\n",
        "from numpyro.infer import MCMC, NUTS, Predictive\n",
        "\n",
        "if \"NUMPYRO_SPHINXBUILD\" in os.environ:\n",
        "    set_matplotlib_formats(\"svg\")\n",
        "\n",
        "numpyro.set_host_device_count(8)\n",
        "\n",
        "\n",
        "print('Python: ', platform.python_version())\n",
        "print('pandas: ', pd.__version__)\n",
        "print('matplotlib: ', matplotlib.__version__)\n",
        "print('Jax: ', jax.__version__)\n",
        "print('NumPyro: ', numpyro.__version__)\n",
        "print('statsmodels: ', statsmodels.__version__)"
      ],
      "metadata": {
        "colab": {
          "base_uri": "https://localhost:8080/"
        },
        "id": "fQ2zajmlk0TQ",
        "outputId": "1ea998c3-8d8d-48ea-8541-d041493ea8dd"
      },
      "execution_count": 76,
      "outputs": [
        {
          "output_type": "stream",
          "name": "stdout",
          "text": [
            "Python:  3.7.13\n",
            "pandas:  1.3.5\n",
            "matplotlib:  3.2.2\n",
            "Jax:  0.3.8\n",
            "NumPyro:  0.9.2\n",
            "statsmodels:  0.10.2\n"
          ]
        }
      ]
    },
    {
      "cell_type": "markdown",
      "source": [
        "### 2.2. Mount Storage"
      ],
      "metadata": {
        "id": "bg5A4pyZ6028"
      }
    },
    {
      "cell_type": "code",
      "source": [
        "from google.colab import drive\n",
        "drive.mount('/content/drive')"
      ],
      "metadata": {
        "id": "hZXG8Wn6ojmw",
        "colab": {
          "base_uri": "https://localhost:8080/"
        },
        "outputId": "e85ea186-4fdf-4a42-9d15-09b54ef2f89d"
      },
      "execution_count": 77,
      "outputs": [
        {
          "output_type": "stream",
          "name": "stdout",
          "text": [
            "Drive already mounted at /content/drive; to attempt to forcibly remount, call drive.mount(\"/content/drive\", force_remount=True).\n"
          ]
        }
      ]
    },
    {
      "cell_type": "markdown",
      "source": [
        "### 2.3. Prep Data"
      ],
      "metadata": {
        "id": "1BcdudrX67Pp"
      }
    },
    {
      "cell_type": "markdown",
      "source": [
        "#### Import and validate dataset"
      ],
      "metadata": {
        "id": "sNtGQaV36_VP"
      }
    },
    {
      "cell_type": "code",
      "source": [
        "retail_sales = pd.read_csv('/content/drive/MyDrive/Colab Notebooks/forecast-sales/data/mrtssales92-present.csv', index_col = None)\n",
        "retail_sales.info()"
      ],
      "metadata": {
        "id": "hyOA9YiBpNSV",
        "colab": {
          "base_uri": "https://localhost:8080/"
        },
        "outputId": "eaa39992-2b53-4ef1-af75-bb75c83e0e14"
      },
      "execution_count": 78,
      "outputs": [
        {
          "output_type": "stream",
          "name": "stdout",
          "text": [
            "<class 'pandas.core.frame.DataFrame'>\n",
            "RangeIndex: 205 entries, 0 to 204\n",
            "Data columns (total 2 columns):\n",
            " #   Column       Non-Null Count  Dtype \n",
            "---  ------       --------------  ----- \n",
            " 0   month        205 non-null    object\n",
            " 1   sales_total  205 non-null    int64 \n",
            "dtypes: int64(1), object(1)\n",
            "memory usage: 3.3+ KB\n"
          ]
        }
      ]
    },
    {
      "cell_type": "markdown",
      "source": [
        "#### Resize dataset"
      ],
      "metadata": {
        "id": "Y8wuSMiU7S7D"
      }
    },
    {
      "cell_type": "markdown",
      "source": [
        "We will ONLY be using retail sales data from 01/01/2005 thru 12/31/2018."
      ],
      "metadata": {
        "id": "42_gHTZr7Z4G"
      }
    },
    {
      "cell_type": "code",
      "source": [
        "retail_sales = retail_sales[:-37]\n",
        "retail_sales.info()\n",
        "retail_sales.tail(5)"
      ],
      "metadata": {
        "id": "N3egiM887yN1",
        "colab": {
          "base_uri": "https://localhost:8080/",
          "height": 362
        },
        "outputId": "3be587dc-18da-42d1-b325-3521fa3503ea"
      },
      "execution_count": 79,
      "outputs": [
        {
          "output_type": "stream",
          "name": "stdout",
          "text": [
            "<class 'pandas.core.frame.DataFrame'>\n",
            "RangeIndex: 168 entries, 0 to 167\n",
            "Data columns (total 2 columns):\n",
            " #   Column       Non-Null Count  Dtype \n",
            "---  ------       --------------  ----- \n",
            " 0   month        168 non-null    object\n",
            " 1   sales_total  168 non-null    int64 \n",
            "dtypes: int64(1), object(1)\n",
            "memory usage: 2.8+ KB\n"
          ]
        },
        {
          "output_type": "execute_result",
          "data": {
            "text/plain": [
              "         month  sales_total\n",
              "163   8/1/2018       520544\n",
              "164   9/1/2018       477137\n",
              "165  10/1/2018       503602\n",
              "166  11/1/2018       518457\n",
              "167  12/1/2018       556614"
            ],
            "text/html": [
              "\n",
              "  <div id=\"df-fb7b3e85-d134-4fa5-a6b9-1a8b62def061\">\n",
              "    <div class=\"colab-df-container\">\n",
              "      <div>\n",
              "<style scoped>\n",
              "    .dataframe tbody tr th:only-of-type {\n",
              "        vertical-align: middle;\n",
              "    }\n",
              "\n",
              "    .dataframe tbody tr th {\n",
              "        vertical-align: top;\n",
              "    }\n",
              "\n",
              "    .dataframe thead th {\n",
              "        text-align: right;\n",
              "    }\n",
              "</style>\n",
              "<table border=\"1\" class=\"dataframe\">\n",
              "  <thead>\n",
              "    <tr style=\"text-align: right;\">\n",
              "      <th></th>\n",
              "      <th>month</th>\n",
              "      <th>sales_total</th>\n",
              "    </tr>\n",
              "  </thead>\n",
              "  <tbody>\n",
              "    <tr>\n",
              "      <th>163</th>\n",
              "      <td>8/1/2018</td>\n",
              "      <td>520544</td>\n",
              "    </tr>\n",
              "    <tr>\n",
              "      <th>164</th>\n",
              "      <td>9/1/2018</td>\n",
              "      <td>477137</td>\n",
              "    </tr>\n",
              "    <tr>\n",
              "      <th>165</th>\n",
              "      <td>10/1/2018</td>\n",
              "      <td>503602</td>\n",
              "    </tr>\n",
              "    <tr>\n",
              "      <th>166</th>\n",
              "      <td>11/1/2018</td>\n",
              "      <td>518457</td>\n",
              "    </tr>\n",
              "    <tr>\n",
              "      <th>167</th>\n",
              "      <td>12/1/2018</td>\n",
              "      <td>556614</td>\n",
              "    </tr>\n",
              "  </tbody>\n",
              "</table>\n",
              "</div>\n",
              "      <button class=\"colab-df-convert\" onclick=\"convertToInteractive('df-fb7b3e85-d134-4fa5-a6b9-1a8b62def061')\"\n",
              "              title=\"Convert this dataframe to an interactive table.\"\n",
              "              style=\"display:none;\">\n",
              "        \n",
              "  <svg xmlns=\"http://www.w3.org/2000/svg\" height=\"24px\"viewBox=\"0 0 24 24\"\n",
              "       width=\"24px\">\n",
              "    <path d=\"M0 0h24v24H0V0z\" fill=\"none\"/>\n",
              "    <path d=\"M18.56 5.44l.94 2.06.94-2.06 2.06-.94-2.06-.94-.94-2.06-.94 2.06-2.06.94zm-11 1L8.5 8.5l.94-2.06 2.06-.94-2.06-.94L8.5 2.5l-.94 2.06-2.06.94zm10 10l.94 2.06.94-2.06 2.06-.94-2.06-.94-.94-2.06-.94 2.06-2.06.94z\"/><path d=\"M17.41 7.96l-1.37-1.37c-.4-.4-.92-.59-1.43-.59-.52 0-1.04.2-1.43.59L10.3 9.45l-7.72 7.72c-.78.78-.78 2.05 0 2.83L4 21.41c.39.39.9.59 1.41.59.51 0 1.02-.2 1.41-.59l7.78-7.78 2.81-2.81c.8-.78.8-2.07 0-2.86zM5.41 20L4 18.59l7.72-7.72 1.47 1.35L5.41 20z\"/>\n",
              "  </svg>\n",
              "      </button>\n",
              "      \n",
              "  <style>\n",
              "    .colab-df-container {\n",
              "      display:flex;\n",
              "      flex-wrap:wrap;\n",
              "      gap: 12px;\n",
              "    }\n",
              "\n",
              "    .colab-df-convert {\n",
              "      background-color: #E8F0FE;\n",
              "      border: none;\n",
              "      border-radius: 50%;\n",
              "      cursor: pointer;\n",
              "      display: none;\n",
              "      fill: #1967D2;\n",
              "      height: 32px;\n",
              "      padding: 0 0 0 0;\n",
              "      width: 32px;\n",
              "    }\n",
              "\n",
              "    .colab-df-convert:hover {\n",
              "      background-color: #E2EBFA;\n",
              "      box-shadow: 0px 1px 2px rgba(60, 64, 67, 0.3), 0px 1px 3px 1px rgba(60, 64, 67, 0.15);\n",
              "      fill: #174EA6;\n",
              "    }\n",
              "\n",
              "    [theme=dark] .colab-df-convert {\n",
              "      background-color: #3B4455;\n",
              "      fill: #D2E3FC;\n",
              "    }\n",
              "\n",
              "    [theme=dark] .colab-df-convert:hover {\n",
              "      background-color: #434B5C;\n",
              "      box-shadow: 0px 1px 3px 1px rgba(0, 0, 0, 0.15);\n",
              "      filter: drop-shadow(0px 1px 2px rgba(0, 0, 0, 0.3));\n",
              "      fill: #FFFFFF;\n",
              "    }\n",
              "  </style>\n",
              "\n",
              "      <script>\n",
              "        const buttonEl =\n",
              "          document.querySelector('#df-fb7b3e85-d134-4fa5-a6b9-1a8b62def061 button.colab-df-convert');\n",
              "        buttonEl.style.display =\n",
              "          google.colab.kernel.accessAllowed ? 'block' : 'none';\n",
              "\n",
              "        async function convertToInteractive(key) {\n",
              "          const element = document.querySelector('#df-fb7b3e85-d134-4fa5-a6b9-1a8b62def061');\n",
              "          const dataTable =\n",
              "            await google.colab.kernel.invokeFunction('convertToInteractive',\n",
              "                                                     [key], {});\n",
              "          if (!dataTable) return;\n",
              "\n",
              "          const docLinkHtml = 'Like what you see? Visit the ' +\n",
              "            '<a target=\"_blank\" href=https://colab.research.google.com/notebooks/data_table.ipynb>data table notebook</a>'\n",
              "            + ' to learn more about interactive tables.';\n",
              "          element.innerHTML = '';\n",
              "          dataTable['output_type'] = 'display_data';\n",
              "          await google.colab.output.renderOutput(dataTable, element);\n",
              "          const docLink = document.createElement('div');\n",
              "          docLink.innerHTML = docLinkHtml;\n",
              "          element.appendChild(docLink);\n",
              "        }\n",
              "      </script>\n",
              "    </div>\n",
              "  </div>\n",
              "  "
            ]
          },
          "metadata": {},
          "execution_count": 79
        }
      ]
    },
    {
      "cell_type": "markdown",
      "source": [
        "#### Convert 'month' column to datetime column."
      ],
      "metadata": {
        "id": "6ZKEFU_R7K24"
      }
    },
    {
      "cell_type": "code",
      "source": [
        "retail_sales['month'] = pd.to_datetime(retail_sales.month)\n",
        "retail_sales.head(5)"
      ],
      "metadata": {
        "id": "CWUElzlmsNb2",
        "colab": {
          "base_uri": "https://localhost:8080/",
          "height": 206
        },
        "outputId": "4092629a-7e0c-4770-d757-5af3fd6061e4"
      },
      "execution_count": 80,
      "outputs": [
        {
          "output_type": "execute_result",
          "data": {
            "text/plain": [
              "       month  sales_total\n",
              "0 2005-01-01       293261\n",
              "1 2005-02-01       295062\n",
              "2 2005-03-01       339141\n",
              "3 2005-04-01       335632\n",
              "4 2005-05-01       345348"
            ],
            "text/html": [
              "\n",
              "  <div id=\"df-4782f151-ee63-4f20-851b-e34678ee96fe\">\n",
              "    <div class=\"colab-df-container\">\n",
              "      <div>\n",
              "<style scoped>\n",
              "    .dataframe tbody tr th:only-of-type {\n",
              "        vertical-align: middle;\n",
              "    }\n",
              "\n",
              "    .dataframe tbody tr th {\n",
              "        vertical-align: top;\n",
              "    }\n",
              "\n",
              "    .dataframe thead th {\n",
              "        text-align: right;\n",
              "    }\n",
              "</style>\n",
              "<table border=\"1\" class=\"dataframe\">\n",
              "  <thead>\n",
              "    <tr style=\"text-align: right;\">\n",
              "      <th></th>\n",
              "      <th>month</th>\n",
              "      <th>sales_total</th>\n",
              "    </tr>\n",
              "  </thead>\n",
              "  <tbody>\n",
              "    <tr>\n",
              "      <th>0</th>\n",
              "      <td>2005-01-01</td>\n",
              "      <td>293261</td>\n",
              "    </tr>\n",
              "    <tr>\n",
              "      <th>1</th>\n",
              "      <td>2005-02-01</td>\n",
              "      <td>295062</td>\n",
              "    </tr>\n",
              "    <tr>\n",
              "      <th>2</th>\n",
              "      <td>2005-03-01</td>\n",
              "      <td>339141</td>\n",
              "    </tr>\n",
              "    <tr>\n",
              "      <th>3</th>\n",
              "      <td>2005-04-01</td>\n",
              "      <td>335632</td>\n",
              "    </tr>\n",
              "    <tr>\n",
              "      <th>4</th>\n",
              "      <td>2005-05-01</td>\n",
              "      <td>345348</td>\n",
              "    </tr>\n",
              "  </tbody>\n",
              "</table>\n",
              "</div>\n",
              "      <button class=\"colab-df-convert\" onclick=\"convertToInteractive('df-4782f151-ee63-4f20-851b-e34678ee96fe')\"\n",
              "              title=\"Convert this dataframe to an interactive table.\"\n",
              "              style=\"display:none;\">\n",
              "        \n",
              "  <svg xmlns=\"http://www.w3.org/2000/svg\" height=\"24px\"viewBox=\"0 0 24 24\"\n",
              "       width=\"24px\">\n",
              "    <path d=\"M0 0h24v24H0V0z\" fill=\"none\"/>\n",
              "    <path d=\"M18.56 5.44l.94 2.06.94-2.06 2.06-.94-2.06-.94-.94-2.06-.94 2.06-2.06.94zm-11 1L8.5 8.5l.94-2.06 2.06-.94-2.06-.94L8.5 2.5l-.94 2.06-2.06.94zm10 10l.94 2.06.94-2.06 2.06-.94-2.06-.94-.94-2.06-.94 2.06-2.06.94z\"/><path d=\"M17.41 7.96l-1.37-1.37c-.4-.4-.92-.59-1.43-.59-.52 0-1.04.2-1.43.59L10.3 9.45l-7.72 7.72c-.78.78-.78 2.05 0 2.83L4 21.41c.39.39.9.59 1.41.59.51 0 1.02-.2 1.41-.59l7.78-7.78 2.81-2.81c.8-.78.8-2.07 0-2.86zM5.41 20L4 18.59l7.72-7.72 1.47 1.35L5.41 20z\"/>\n",
              "  </svg>\n",
              "      </button>\n",
              "      \n",
              "  <style>\n",
              "    .colab-df-container {\n",
              "      display:flex;\n",
              "      flex-wrap:wrap;\n",
              "      gap: 12px;\n",
              "    }\n",
              "\n",
              "    .colab-df-convert {\n",
              "      background-color: #E8F0FE;\n",
              "      border: none;\n",
              "      border-radius: 50%;\n",
              "      cursor: pointer;\n",
              "      display: none;\n",
              "      fill: #1967D2;\n",
              "      height: 32px;\n",
              "      padding: 0 0 0 0;\n",
              "      width: 32px;\n",
              "    }\n",
              "\n",
              "    .colab-df-convert:hover {\n",
              "      background-color: #E2EBFA;\n",
              "      box-shadow: 0px 1px 2px rgba(60, 64, 67, 0.3), 0px 1px 3px 1px rgba(60, 64, 67, 0.15);\n",
              "      fill: #174EA6;\n",
              "    }\n",
              "\n",
              "    [theme=dark] .colab-df-convert {\n",
              "      background-color: #3B4455;\n",
              "      fill: #D2E3FC;\n",
              "    }\n",
              "\n",
              "    [theme=dark] .colab-df-convert:hover {\n",
              "      background-color: #434B5C;\n",
              "      box-shadow: 0px 1px 3px 1px rgba(0, 0, 0, 0.15);\n",
              "      filter: drop-shadow(0px 1px 2px rgba(0, 0, 0, 0.3));\n",
              "      fill: #FFFFFF;\n",
              "    }\n",
              "  </style>\n",
              "\n",
              "      <script>\n",
              "        const buttonEl =\n",
              "          document.querySelector('#df-4782f151-ee63-4f20-851b-e34678ee96fe button.colab-df-convert');\n",
              "        buttonEl.style.display =\n",
              "          google.colab.kernel.accessAllowed ? 'block' : 'none';\n",
              "\n",
              "        async function convertToInteractive(key) {\n",
              "          const element = document.querySelector('#df-4782f151-ee63-4f20-851b-e34678ee96fe');\n",
              "          const dataTable =\n",
              "            await google.colab.kernel.invokeFunction('convertToInteractive',\n",
              "                                                     [key], {});\n",
              "          if (!dataTable) return;\n",
              "\n",
              "          const docLinkHtml = 'Like what you see? Visit the ' +\n",
              "            '<a target=\"_blank\" href=https://colab.research.google.com/notebooks/data_table.ipynb>data table notebook</a>'\n",
              "            + ' to learn more about interactive tables.';\n",
              "          element.innerHTML = '';\n",
              "          dataTable['output_type'] = 'display_data';\n",
              "          await google.colab.output.renderOutput(dataTable, element);\n",
              "          const docLink = document.createElement('div');\n",
              "          docLink.innerHTML = docLinkHtml;\n",
              "          element.appendChild(docLink);\n",
              "        }\n",
              "      </script>\n",
              "    </div>\n",
              "  </div>\n",
              "  "
            ]
          },
          "metadata": {},
          "execution_count": 80
        }
      ]
    },
    {
      "cell_type": "markdown",
      "source": [
        "#### Split datasets for Exploratory Data Analysis\n",
        "- Train\n",
        "- Test"
      ],
      "metadata": {
        "id": "yQ0P4gGr85Rq"
      }
    },
    {
      "cell_type": "code",
      "source": [
        "retail_sales_train = retail_sales[:-24]\n",
        "retail_sales_test = retail_sales[-24:]\n",
        "\n",
        "print('Train: ', retail_sales_train.shape)\n",
        "print('Test: ', retail_sales_test.shape)"
      ],
      "metadata": {
        "colab": {
          "base_uri": "https://localhost:8080/"
        },
        "id": "q_9RRdUh8_ft",
        "outputId": "201e16fe-b407-4fbf-8ed7-ab2cf9a8e4c6"
      },
      "execution_count": 7,
      "outputs": [
        {
          "output_type": "stream",
          "name": "stdout",
          "text": [
            "Train:  (144, 2)\n",
            "Test:  (24, 2)\n"
          ]
        }
      ]
    },
    {
      "cell_type": "markdown",
      "source": [
        "### 2.4. Exploratory Data Analysis"
      ],
      "metadata": {
        "id": "PmoChUwi9313"
      }
    },
    {
      "cell_type": "markdown",
      "source": [
        "#### Set Plotting Parameters"
      ],
      "metadata": {
        "id": "8VvMHv8i91Ib"
      }
    },
    {
      "cell_type": "code",
      "source": [
        "# Get current size\n",
        "fig_size = plt.rcParams[\"figure.figsize\"]\n",
        " \n",
        "# Set figure width to 12 and height to 9\n",
        "fig_size[0] = 30\n",
        "fig_size[1] = 5\n",
        "plt.rcParams[\"figure.figsize\"] = fig_size"
      ],
      "metadata": {
        "id": "OxZ4BQrL-A_A"
      },
      "execution_count": 8,
      "outputs": []
    },
    {
      "cell_type": "markdown",
      "source": [
        "#### Chart Retail Sales"
      ],
      "metadata": {
        "id": "Er5bpCAQ-DhT"
      }
    },
    {
      "cell_type": "code",
      "source": [
        "retail_sales_train.plot(x='month', y='sales_total', kind='line', grid=1)\n",
        "plt.show()"
      ],
      "metadata": {
        "colab": {
          "base_uri": "https://localhost:8080/",
          "height": 230
        },
        "id": "Lg6ewURF-NML",
        "outputId": "3e2b1541-1a18-4e88-8bae-370c2fd90a9a"
      },
      "execution_count": 9,
      "outputs": [
        {
          "output_type": "display_data",
          "data": {
            "text/plain": [
              "<Figure size 2160x360 with 1 Axes>"
            ],
            "image/png": "[encoded data removed]"
          },
          "metadata": {
            "needs_background": "light"
          }
        }
      ]
    },
    {
      "cell_type": "markdown",
      "source": [
        "#### Determine Retail Sales Data (Time-Series) has trend"
      ],
      "metadata": {
        "id": "hj6TPNS8-WG7"
      }
    },
    {
      "cell_type": "markdown",
      "source": [
        "Next, we need to determine if the retail sales data is non-stationary or it has trends using Dickey Fuller Test, which is a statistical hypothesis test that allows you to detect non-stationarity. The stationary time-series implies there is no predictable pattern in the long term."
      ],
      "metadata": {
        "id": "j4n4uCt_-XuY"
      }
    },
    {
      "cell_type": "code",
      "source": [
        "from statsmodels.tsa.stattools import adfuller\n",
        "adf, pval, usedlag, nobs, crit_vals, icbest =  adfuller(retail_sales_train.sales_total.values)\n",
        "print('ADF test statistic:', adf)\n",
        "print('ADF p-values:', pval)\n",
        "print('ADF number of lags used:', usedlag)\n",
        "print('ADF number of observations:', nobs)\n",
        "print('ADF critical values:', crit_vals)\n",
        "print('ADF best information criterion:', icbest)"
      ],
      "metadata": {
        "colab": {
          "base_uri": "https://localhost:8080/"
        },
        "id": "2lkqB77T-biZ",
        "outputId": "207cb147-ba5c-44ef-b93c-4918025a7c47"
      },
      "execution_count": 10,
      "outputs": [
        {
          "output_type": "stream",
          "name": "stdout",
          "text": [
            "ADF test statistic: -0.41114662261582896\n",
            "ADF p-values: 0.9082209893408628\n",
            "ADF number of lags used: 14\n",
            "ADF number of observations: 129\n",
            "ADF critical values: {'1%': -3.482087964046026, '5%': -2.8842185101614626, '10%': -2.578864381347275}\n",
            "ADF best information criterion: 2712.938864098956\n"
          ]
        }
      ]
    },
    {
      "cell_type": "markdown",
      "source": [
        "Looking at the value, which is bigger than 0.05, you can determine time-series data is non-stationary."
      ],
      "metadata": {
        "id": "fTwlHlDx-gzE"
      }
    },
    {
      "cell_type": "markdown",
      "source": [
        "### 2.5. Prep Data for Modeling"
      ],
      "metadata": {
        "id": "vb5cGonHAKGm"
      }
    },
    {
      "cell_type": "code",
      "source": [
        "retail_sales_data = retail_sales[\"sales_total\"].values\n",
        "print(\"Length of time series:\", retail_sales.shape[0])"
      ],
      "metadata": {
        "id": "8MF5Jzu9CTph"
      },
      "execution_count": 81,
      "outputs": []
    },
    {
      "cell_type": "code",
      "source": [
        "#plt.figure(figsize=(20, 5))\n",
        "#plt.plot(retail_sales[\"month\"], retail_sales_data)\n",
        "#plt.show()"
      ],
      "metadata": {
        "id": "2-mSw1qKDGx-"
      },
      "execution_count": 83,
      "outputs": []
    },
    {
      "cell_type": "code",
      "source": [
        "y_train, y_test = jnp.array(retail_sales_data[:144], dtype=jnp.float32), retail_sales_data[144:]\n",
        "y_train.shape, y_test.shape"
      ],
      "metadata": {
        "colab": {
          "base_uri": "https://localhost:8080/"
        },
        "id": "3-wJ4i2rxNdm",
        "outputId": "f342f644-5446-4a46-ac76-2f94b077ec50"
      },
      "execution_count": 85,
      "outputs": [
        {
          "output_type": "execute_result",
          "data": {
            "text/plain": [
              "((144,), (24,))"
            ]
          },
          "metadata": {},
          "execution_count": 85
        }
      ]
    },
    {
      "cell_type": "markdown",
      "source": [
        "### 2.6. Develop Forecast Model"
      ],
      "metadata": {
        "id": "IrKybsqX-qgM"
      }
    },
    {
      "cell_type": "markdown",
      "source": [
        "#### Define model"
      ],
      "metadata": {
        "id": "vDh60yrQApUS"
      }
    },
    {
      "cell_type": "code",
      "source": [
        "def sgt(y, seasonality, future=0):\n",
        "    # heuristically, standard derivation of Cauchy prior depends on\n",
        "    # the max value of data\n",
        "    cauchy_sd = jnp.max(y) / 150\n",
        "\n",
        "    # NB: priors' parameters are taken from\n",
        "    # https://github.com/cbergmeir/Rlgt/blob/master/Rlgt/R/rlgtcontrol.R\n",
        "    nu = numpyro.sample(\"nu\", dist.Uniform(2, 20))\n",
        "    powx = numpyro.sample(\"powx\", dist.Uniform(0, 1))\n",
        "    sigma = numpyro.sample(\"sigma\", dist.HalfCauchy(cauchy_sd))\n",
        "    offset_sigma = numpyro.sample(\n",
        "        \"offset_sigma\", dist.TruncatedCauchy(low=1e-10, loc=1e-10, scale=cauchy_sd)\n",
        "    )\n",
        "\n",
        "    coef_trend = numpyro.sample(\"coef_trend\", dist.Cauchy(0, cauchy_sd))\n",
        "    pow_trend_beta = numpyro.sample(\"pow_trend_beta\", dist.Beta(1, 1))\n",
        "    # pow_trend takes values from -0.5 to 1\n",
        "    pow_trend = 1.5 * pow_trend_beta - 0.5\n",
        "    pow_season = numpyro.sample(\"pow_season\", dist.Beta(1, 1))\n",
        "\n",
        "    level_sm = numpyro.sample(\"level_sm\", dist.Beta(1, 2))\n",
        "    s_sm = numpyro.sample(\"s_sm\", dist.Uniform(0, 1))\n",
        "    init_s = numpyro.sample(\"init_s\", dist.Cauchy(0, y[:seasonality] * 0.3))\n",
        "\n",
        "    def transition_fn(carry, t):\n",
        "        level, s, moving_sum = carry\n",
        "        season = s[0] * level**pow_season\n",
        "        exp_val = level + coef_trend * level**pow_trend + season\n",
        "        exp_val = jnp.clip(exp_val, a_min=0)\n",
        "        # use expected vale when forecasting\n",
        "        y_t = jnp.where(t >= N, exp_val, y[t])\n",
        "\n",
        "        moving_sum = (\n",
        "            moving_sum + y[t] - jnp.where(t >= seasonality, y[t - seasonality], 0.0)\n",
        "        )\n",
        "        level_p = jnp.where(t >= seasonality, moving_sum / seasonality, y_t - season)\n",
        "        level = level_sm * level_p + (1 - level_sm) * level\n",
        "        level = jnp.clip(level, a_min=0)\n",
        "\n",
        "        new_s = (s_sm * (y_t - level) / season + (1 - s_sm)) * s[0]\n",
        "        # repeat s when forecasting\n",
        "        new_s = jnp.where(t >= N, s[0], new_s)\n",
        "        s = jnp.concatenate([s[1:], new_s[None]], axis=0)\n",
        "\n",
        "        omega = sigma * exp_val**powx + offset_sigma\n",
        "        y_ = numpyro.sample(\"y\", dist.StudentT(nu, exp_val, omega))\n",
        "\n",
        "        return (level, s, moving_sum), y_\n",
        "\n",
        "    N = y.shape[0]\n",
        "    level_init = y[0]\n",
        "    s_init = jnp.concatenate([init_s[1:], init_s[:1]], axis=0)\n",
        "    moving_sum = level_init\n",
        "    with numpyro.handlers.condition(data={\"y\": y[1:]}):\n",
        "        _, ys = scan(\n",
        "            transition_fn, (level_init, s_init, moving_sum), jnp.arange(1, N + future)\n",
        "        )\n",
        "    if future > 0:\n",
        "        numpyro.deterministic(\"y_forecast\", ys[-future:])"
      ],
      "metadata": {
        "id": "gr5DwLDBPlYn"
      },
      "execution_count": 86,
      "outputs": []
    },
    {
      "cell_type": "code",
      "source": [
        "print(\"Lag values sorted according to their autocorrelation values:\\n\")\n",
        "print(jnp.argsort(autocorrelation(y_train))[::-1])"
      ],
      "metadata": {
        "colab": {
          "base_uri": "https://localhost:8080/"
        },
        "id": "bZ3BdMT71zNi",
        "outputId": "d457391d-684a-440b-901c-167a8c0eab83"
      },
      "execution_count": 114,
      "outputs": [
        {
          "output_type": "stream",
          "name": "stdout",
          "text": [
            "Lag values sorted according to their autocorrelation values:\n",
            "\n",
            "[  0  12   5   1   4   7   3  24   8   2   6   9  11  17  13  16  19  36\n",
            "  10  15  14  20  18  21  23  48  29  25  28  31  22  27  26  32  30  33\n",
            "  41  40  43  35  37  39  44  34  42  38  45  60  47  49  46  52  53  51\n",
            "  55  50  54  56  57  72  59  58  61  65  64  96  63  84  67  62  66  68\n",
            " 108  69  71  77  76  73  70  79  75 101 100  80  89  74 103  78  91  88\n",
            "  97  99  81  83  95  92 102  85  87  93  90  98 104 120  86  82 105  94\n",
            " 107 109 106 112 113 111 110 115 114 116 117 132 119 121 124 118 123 125\n",
            " 122 127 126 128 129 131 133 130 134 136 135 137 138 139 140 141 142 143]\n"
          ]
        }
      ]
    },
    {
      "cell_type": "markdown",
      "source": [
        "#### Train model"
      ],
      "metadata": {
        "id": "YlicK1JWRAg-"
      }
    },
    {
      "cell_type": "code",
      "source": [
        "%%time\n",
        "kernel = NUTS(sgt)\n",
        "mcmc = MCMC(kernel, num_warmup=5000, num_samples=5000, num_chains=2)\n",
        "mcmc.run(random.PRNGKey(0), y_train, seasonality=48)\n",
        "mcmc.print_summary()\n",
        "samples = mcmc.get_samples()"
      ],
      "metadata": {
        "id": "xHCPM0zjL0dS",
        "colab": {
          "base_uri": "https://localhost:8080/",
          "height": 1000,
          "referenced_widgets": [
            "6af182b14f02471f93848e403b2aa1cb",
            "57dfb474d273448a80d322f95b178e82",
            "291726ef9a5147ffb5debc6efcb30c6e",
            "0e1f3da5cb71437d850615bada3e18b2",
            "a03e50b051fe49ca9161a2803c1569b9",
            "27bb4f5eff4e4e33b37cba0bb9044ff6",
            "163f3d8f883744cea483360527715aac",
            "41299066161b46df91856109c7d443c9",
            "236f04d8adf044b3ae52807d9fc4190f",
            "88a84e0d08694d2baf744dbeb0ec507e",
            "11a546d1c52944ddbee7a4865ce1db16",
            "8088998a763f4117b15824db0f672fad",
            "62b4285a1136417e85b4aa2319865ec2",
            "d0e118e7c61145ea8452d5b381d65736",
            "3d8241879ad8442db72b7eb64f51a28e",
            "2068530bf97f4c79ae9df8a5e5c4cb5a",
            "57705cab34864e30acc3c8d8e0b4d52a",
            "0c734e46caf34a0a85e50fd9d685aaf6",
            "7e384e1ef8934bbebc7ac1ded750d59a",
            "1ba749bb8c534b19a574951bb2bff583",
            "2bb52f7d0f9b4591a223e70c675b80b9",
            "698304118c0e42408298e0a6f2f2f2c8"
          ]
        },
        "outputId": "1c34aeb8-54da-445f-9db8-a196f1adc06d"
      },
      "execution_count": 110,
      "outputs": [
        {
          "output_type": "display_data",
          "data": {
            "text/plain": [
              "  0%|          | 0/10000 [00:00<?, ?it/s]"
            ],
            "application/vnd.jupyter.widget-view+json": {
              "version_major": 2,
              "version_minor": 0,
              "model_id": "6af182b14f02471f93848e403b2aa1cb"
            }
          },
          "metadata": {}
        },
        {
          "output_type": "display_data",
          "data": {
            "text/plain": [
              "  0%|          | 0/10000 [00:00<?, ?it/s]"
            ],
            "application/vnd.jupyter.widget-view+json": {
              "version_major": 2,
              "version_minor": 0,
              "model_id": "8088998a763f4117b15824db0f672fad"
            }
          },
          "metadata": {}
        },
        {
          "output_type": "stream",
          "name": "stdout",
          "text": [
            "\n",
            "                      mean       std    median      5.0%     95.0%     n_eff     r_hat\n",
            "      coef_trend  -1516.48  25892.39    228.97 -12632.89  15482.13    163.76      1.01\n",
            "       init_s[0]   6408.10  13550.82   6524.16 -14258.82  30026.80   2567.69      1.00\n",
            "       init_s[1] -11540.00  11379.79 -11568.82 -29513.09   7632.38    704.49      1.00\n",
            "       init_s[2]  22099.69  13217.26  22000.29    533.99  43708.69    748.95      1.00\n",
            "       init_s[3]  13374.45  12957.92  13269.35  -7969.68  33898.54    467.51      1.00\n",
            "       init_s[4]  23944.68  13899.88  23530.88   1860.83  46833.51    399.07      1.00\n",
            "       init_s[5]  19366.66  12918.02  19185.19  -2400.58  38985.04    367.02      1.00\n",
            "       init_s[6]  20229.84  12875.49  19711.18   -620.15  40066.16    314.18      1.01\n",
            "       init_s[7]  24331.46  13294.50  23969.54   1653.99  43516.18    283.69      1.01\n",
            "       init_s[8]  -2894.51  12662.50  -3455.39 -22763.09  16824.67    265.19      1.01\n",
            "       init_s[9]   4482.83  13051.72   3859.45 -16090.76  24616.53    255.96      1.01\n",
            "      init_s[10]   9358.88  13205.69   8732.43 -11928.46  29209.04    271.69      1.01\n",
            "      init_s[11]  66053.59  12868.00  65530.12  45352.98  85932.21    272.07      1.01\n",
            "      init_s[12] -20011.74  12222.56 -20513.85 -39637.48  -1475.85    250.19      1.01\n",
            "      init_s[13] -24234.41  12379.37 -24706.86 -44124.23  -5593.31    245.66      1.01\n",
            "      init_s[14]  22680.87  12180.69  22130.19   2782.32  40580.79    225.01      1.01\n",
            "      init_s[15]  15526.98  12602.04  14988.87  -5350.41  34173.38    259.84      1.01\n",
            "      init_s[16]  34130.56  13525.48  33613.52  10933.36  53786.06    253.13      1.01\n",
            "      init_s[17]  22518.19  12345.99  22166.29   3264.21  41629.81    214.75      1.01\n",
            "      init_s[18]  22823.11  12387.39  22199.50   3142.40  40930.46    229.37      1.01\n",
            "      init_s[19]  31728.47  12696.02  31306.79  11218.38  50032.82    234.83      1.01\n",
            "      init_s[20]   5920.55  11916.71   5454.06 -13289.14  23065.82    215.54      1.01\n",
            "      init_s[21]  13241.40  12189.73  12629.20  -6343.64  31225.84    222.82      1.01\n",
            "      init_s[22]  19957.21  11928.89  19354.90    310.53  36926.79    224.71      1.01\n",
            "      init_s[23]  78461.69  11982.86  77924.64  59601.85  96545.62    226.48      1.01\n",
            "      init_s[24] -12240.86  11271.22 -12960.90 -30021.03   4487.30    206.75      1.01\n",
            "      init_s[25] -17453.05  11134.19 -18013.49 -35343.03  -1206.53    209.46      1.01\n",
            "      init_s[26]  32451.92  11659.57  32048.29  13968.11  49393.25    208.92      1.01\n",
            "      init_s[27]  21570.83  11541.63  21034.73   3414.24  38483.04    207.22      1.01\n",
            "      init_s[28]  45140.48  11825.08  44620.51  27002.03  62910.29    205.71      1.01\n",
            "      init_s[29]  32982.88  11633.94  32509.66  15092.79  50566.71    208.14      1.01\n",
            "      init_s[30]  31984.63  11934.57  31437.89  12423.03  49386.94    225.22      1.01\n",
            "      init_s[31]  40658.86  11616.92  39968.08  22152.77  57611.51    216.77      1.01\n",
            "      init_s[32]  13308.89  11455.67  12708.62  -4967.14  29750.27    182.23      1.01\n",
            "      init_s[33]  24210.41  11506.30  23658.71   6452.68  41048.75    204.54      1.01\n",
            "      init_s[34]  30922.88  11318.83  30423.37  13200.34  47933.68    227.38      1.01\n",
            "      init_s[35]  87008.88  12125.57  86397.88  68108.14 105377.44    211.31      1.01\n",
            "      init_s[36]  -5800.00  11399.59  -6445.92 -23977.98  11294.52    231.53      1.01\n",
            "      init_s[37]   2677.09  11657.48   2121.74 -15888.93  20282.17    219.77      1.01\n",
            "      init_s[38]  38316.38  12068.41  37567.83  19165.30  56466.96    229.25      1.01\n",
            "      init_s[39]  28089.38  11576.86  27592.00   9535.08  45120.50    230.89      1.01\n",
            "      init_s[40]  52723.96  12000.02  52128.81  32832.85  70249.24    233.17      1.01\n",
            "      init_s[41]  37895.67  11453.25  37378.38  19968.66  55253.30    230.15      1.01\n",
            "      init_s[42]  39282.70  11602.92  38582.37  20186.78  56332.73    244.38      1.01\n",
            "      init_s[43]  48906.32  11794.27  48259.78  29195.29  66703.41    289.28      1.01\n",
            "      init_s[44]  22430.03  11414.66  21856.28   4138.15  39944.33    318.00      1.01\n",
            "      init_s[45]  30172.50  11559.70  29533.74  12211.12  48959.24    350.75      1.01\n",
            "      init_s[46]  34823.98  12221.41  34376.38  15230.69  54529.38    438.13      1.00\n",
            "      init_s[47]  92120.99  12288.91  91651.90  72445.73 111405.13    529.52      1.00\n",
            "        level_sm      0.43      0.14      0.42      0.23      0.67    280.06      1.01\n",
            "              nu     13.42      4.23     13.86      7.31     19.97   7645.77      1.00\n",
            "    offset_sigma   5718.89   4840.51   4216.02      0.29  13465.60   6926.72      1.00\n",
            "      pow_season      0.00      0.00      0.00      0.00      0.00   6839.14      1.00\n",
            "  pow_trend_beta      0.17      0.11      0.16      0.00      0.32   2426.77      1.00\n",
            "            powx      0.12      0.09      0.11      0.00      0.24   4483.95      1.00\n",
            "            s_sm      0.06      0.07      0.04      0.00      0.14   2278.58      1.00\n",
            "           sigma   3406.91   3142.52   2454.18      0.45   7888.89   5891.24      1.00\n",
            "\n",
            "Number of divergences: 306\n",
            "CPU times: user 4min 26s, sys: 473 ms, total: 4min 26s\n",
            "Wall time: 2min 33s\n"
          ]
        }
      ]
    },
    {
      "cell_type": "markdown",
      "source": [
        "#### Predict Retail Sales with model"
      ],
      "metadata": {
        "id": "tW4M6sYIQ6fj"
      }
    },
    {
      "cell_type": "code",
      "source": [
        "predictive = Predictive(sgt, samples, return_sites=[\"y_forecast\"])\n",
        "forecast_marginal = predictive(random.PRNGKey(1), y_train, seasonality=48, future=24)[\n",
        "    \"y_forecast\"\n",
        "]"
      ],
      "metadata": {
        "id": "XWWTKdVNMxiI"
      },
      "execution_count": 111,
      "outputs": []
    },
    {
      "cell_type": "markdown",
      "source": [
        "### 2.7. Validate Forecast Model"
      ],
      "metadata": {
        "id": "1VbmNrsNjF9j"
      }
    },
    {
      "cell_type": "code",
      "source": [
        "y_pred = jnp.mean(forecast_marginal, axis=0)\n",
        "sMAPE = jnp.mean(jnp.abs(y_pred - y_test) / (y_pred + y_test)) * 200\n",
        "msqrt = jnp.sqrt(jnp.mean((y_pred - y_test) ** 2))\n",
        "print(\"sMAPE: {:.2f}, rmse: {:.2f}\".format(sMAPE, msqrt))"
      ],
      "metadata": {
        "colab": {
          "base_uri": "https://localhost:8080/"
        },
        "id": "qHqQm9jCnJyk",
        "outputId": "4ade1a6e-6374-4647-bf5a-8c5dfed9b689"
      },
      "execution_count": 112,
      "outputs": [
        {
          "output_type": "stream",
          "name": "stdout",
          "text": [
            "sMAPE: 2.44, rmse: 13894.89\n"
          ]
        }
      ]
    },
    {
      "cell_type": "code",
      "source": [
        "plt.figure(figsize=(20, 5))\n",
        "plt.plot(retail_sales[\"month\"], retail_sales_data)\n",
        "t_future = retail_sales[\"month\"][144:]\n",
        "hpd_low, hpd_high = hpdi(forecast_marginal)\n",
        "plt.plot(t_future, y_pred, lw=2)\n",
        "plt.fill_between(t_future, hpd_low, hpd_high, alpha=0.3)\n",
        "plt.title(\"Forecasting lynx dataset with SGT model (90% HPDI)\")\n",
        "plt.show()"
      ],
      "metadata": {
        "colab": {
          "base_uri": "https://localhost:8080/",
          "height": 331
        },
        "id": "-Uwb71hb-2xT",
        "outputId": "9f74f121-a99f-4938-8a6a-1a1eb20a6bd5"
      },
      "execution_count": 113,
      "outputs": [
        {
          "output_type": "display_data",
          "data": {
            "text/plain": [
              "<Figure size 1440x360 with 1 Axes>"
            ],
            "image/png": "[encoded data removed]"
          },
          "metadata": {
            "needs_background": "light"
          }
        }
      ]
    }
  ]
}